{
 "cells": [
  {
   "cell_type": "code",
   "execution_count": 73,
   "metadata": {},
   "outputs": [],
   "source": [
    "import numpy as np\n",
    "import pandas as pd\n",
    "import matplotlib.pyplot as plt\n",
    "import seaborn as sns"
   ]
  },
  {
   "cell_type": "code",
   "execution_count": 74,
   "metadata": {},
   "outputs": [
    {
     "data": {
      "text/html": [
       "<div>\n",
       "<style scoped>\n",
       "    .dataframe tbody tr th:only-of-type {\n",
       "        vertical-align: middle;\n",
       "    }\n",
       "\n",
       "    .dataframe tbody tr th {\n",
       "        vertical-align: top;\n",
       "    }\n",
       "\n",
       "    .dataframe thead th {\n",
       "        text-align: right;\n",
       "    }\n",
       "</style>\n",
       "<table border=\"1\" class=\"dataframe\">\n",
       "  <thead>\n",
       "    <tr style=\"text-align: right;\">\n",
       "      <th></th>\n",
       "      <th>month</th>\n",
       "      <th>day</th>\n",
       "      <th>campaign_number</th>\n",
       "      <th>user_engagement</th>\n",
       "      <th>banner</th>\n",
       "      <th>placement</th>\n",
       "      <th>displays</th>\n",
       "      <th>cost</th>\n",
       "      <th>clicks</th>\n",
       "      <th>revenue</th>\n",
       "      <th>post_click_conversions</th>\n",
       "      <th>post_click_sales_amount</th>\n",
       "      <th>Unnamed: 12</th>\n",
       "      <th>Unnamed: 13</th>\n",
       "    </tr>\n",
       "  </thead>\n",
       "  <tbody>\n",
       "    <tr>\n",
       "      <th>0</th>\n",
       "      <td>April</td>\n",
       "      <td>1</td>\n",
       "      <td>camp 1</td>\n",
       "      <td>High</td>\n",
       "      <td>160 x 600</td>\n",
       "      <td>abc</td>\n",
       "      <td>4</td>\n",
       "      <td>0.0060</td>\n",
       "      <td>0</td>\n",
       "      <td>0.0000</td>\n",
       "      <td>0</td>\n",
       "      <td>0.0000</td>\n",
       "      <td>NaN</td>\n",
       "      <td>NaN</td>\n",
       "    </tr>\n",
       "    <tr>\n",
       "      <th>1</th>\n",
       "      <td>April</td>\n",
       "      <td>1</td>\n",
       "      <td>camp 1</td>\n",
       "      <td>High</td>\n",
       "      <td>160 x 600</td>\n",
       "      <td>def</td>\n",
       "      <td>20170</td>\n",
       "      <td>26.7824</td>\n",
       "      <td>158</td>\n",
       "      <td>28.9717</td>\n",
       "      <td>23</td>\n",
       "      <td>1972.4602</td>\n",
       "      <td>NaN</td>\n",
       "      <td>NaN</td>\n",
       "    </tr>\n",
       "    <tr>\n",
       "      <th>2</th>\n",
       "      <td>April</td>\n",
       "      <td>1</td>\n",
       "      <td>camp 1</td>\n",
       "      <td>High</td>\n",
       "      <td>160 x 600</td>\n",
       "      <td>ghi</td>\n",
       "      <td>14701</td>\n",
       "      <td>27.6304</td>\n",
       "      <td>158</td>\n",
       "      <td>28.9771</td>\n",
       "      <td>78</td>\n",
       "      <td>2497.2636</td>\n",
       "      <td>NaN</td>\n",
       "      <td>NaN</td>\n",
       "    </tr>\n",
       "    <tr>\n",
       "      <th>3</th>\n",
       "      <td>April</td>\n",
       "      <td>1</td>\n",
       "      <td>camp 1</td>\n",
       "      <td>High</td>\n",
       "      <td>160 x 600</td>\n",
       "      <td>mno</td>\n",
       "      <td>171259</td>\n",
       "      <td>216.8750</td>\n",
       "      <td>1796</td>\n",
       "      <td>329.4518</td>\n",
       "      <td>617</td>\n",
       "      <td>24625.3234</td>\n",
       "      <td>NaN</td>\n",
       "      <td>NaN</td>\n",
       "    </tr>\n",
       "    <tr>\n",
       "      <th>4</th>\n",
       "      <td>April</td>\n",
       "      <td>1</td>\n",
       "      <td>camp 1</td>\n",
       "      <td>Low</td>\n",
       "      <td>160 x 600</td>\n",
       "      <td>def</td>\n",
       "      <td>552</td>\n",
       "      <td>0.0670</td>\n",
       "      <td>1</td>\n",
       "      <td>0.1834</td>\n",
       "      <td>0</td>\n",
       "      <td>0.0000</td>\n",
       "      <td>NaN</td>\n",
       "      <td>NaN</td>\n",
       "    </tr>\n",
       "  </tbody>\n",
       "</table>\n",
       "</div>"
      ],
      "text/plain": [
       "   month  day campaign_number user_engagement     banner placement  displays  \\\n",
       "0  April    1          camp 1            High  160 x 600       abc         4   \n",
       "1  April    1          camp 1            High  160 x 600       def     20170   \n",
       "2  April    1          camp 1            High  160 x 600       ghi     14701   \n",
       "3  April    1          camp 1            High  160 x 600       mno    171259   \n",
       "4  April    1          camp 1             Low  160 x 600       def       552   \n",
       "\n",
       "       cost  clicks   revenue  post_click_conversions  \\\n",
       "0    0.0060       0    0.0000                       0   \n",
       "1   26.7824     158   28.9717                      23   \n",
       "2   27.6304     158   28.9771                      78   \n",
       "3  216.8750    1796  329.4518                     617   \n",
       "4    0.0670       1    0.1834                       0   \n",
       "\n",
       "   post_click_sales_amount  Unnamed: 12  Unnamed: 13  \n",
       "0                   0.0000          NaN          NaN  \n",
       "1                1972.4602          NaN          NaN  \n",
       "2                2497.2636          NaN          NaN  \n",
       "3               24625.3234          NaN          NaN  \n",
       "4                   0.0000          NaN          NaN  "
      ]
     },
     "execution_count": 74,
     "metadata": {},
     "output_type": "execute_result"
    }
   ],
   "source": [
    "df = pd.read_csv('../dataframes/online_advertising_performance_data.csv')\n",
    "df.head()"
   ]
  },
  {
   "cell_type": "code",
   "execution_count": 75,
   "metadata": {},
   "outputs": [
    {
     "data": {
      "text/plain": [
       "(15408, 14)"
      ]
     },
     "execution_count": 75,
     "metadata": {},
     "output_type": "execute_result"
    }
   ],
   "source": [
    "df.shape"
   ]
  },
  {
   "cell_type": "markdown",
   "metadata": {},
   "source": [
    "**Storing the copy of the dataset.**"
   ]
  },
  {
   "cell_type": "code",
   "execution_count": 76,
   "metadata": {},
   "outputs": [],
   "source": [
    "df_copy = df.copy()"
   ]
  },
  {
   "cell_type": "code",
   "execution_count": 77,
   "metadata": {},
   "outputs": [],
   "source": [
    "## Exporting the dataset for manual analysis into the excel\n",
    "with pd.ExcelWriter('digital_marketing.xlsx') as writer:\n",
    "    df.to_excel(writer,sheet_name='page1')"
   ]
  },
  {
   "cell_type": "markdown",
   "metadata": {},
   "source": [
    "**Data Cleaning**"
   ]
  },
  {
   "cell_type": "code",
   "execution_count": 78,
   "metadata": {},
   "outputs": [
    {
     "name": "stdout",
     "output_type": "stream",
     "text": [
      "<class 'pandas.core.frame.DataFrame'>\n",
      "RangeIndex: 15408 entries, 0 to 15407\n",
      "Data columns (total 14 columns):\n",
      " #   Column                   Non-Null Count  Dtype  \n",
      "---  ------                   --------------  -----  \n",
      " 0   month                    15408 non-null  object \n",
      " 1   day                      15408 non-null  int64  \n",
      " 2   campaign_number          15408 non-null  object \n",
      " 3   user_engagement          15408 non-null  object \n",
      " 4   banner                   15408 non-null  object \n",
      " 5   placement                14995 non-null  object \n",
      " 6   displays                 15408 non-null  int64  \n",
      " 7   cost                     15408 non-null  float64\n",
      " 8   clicks                   15408 non-null  int64  \n",
      " 9   revenue                  15408 non-null  float64\n",
      " 10  post_click_conversions   15408 non-null  int64  \n",
      " 11  post_click_sales_amount  15408 non-null  float64\n",
      " 12  Unnamed: 12              0 non-null      float64\n",
      " 13  Unnamed: 13              0 non-null      float64\n",
      "dtypes: float64(5), int64(4), object(5)\n",
      "memory usage: 1.6+ MB\n"
     ]
    }
   ],
   "source": [
    "df.info()"
   ]
  },
  {
   "cell_type": "markdown",
   "metadata": {},
   "source": [
    "**The Unnamed: 12 and Unnamed: 13 has zero non-null values. It would be good to remove them from the dataset to clean the dataset.**"
   ]
  },
  {
   "cell_type": "code",
   "execution_count": 79,
   "metadata": {},
   "outputs": [],
   "source": [
    "df.drop(df.iloc[:, 12:13], inplace=True, axis=1)"
   ]
  },
  {
   "cell_type": "code",
   "execution_count": 80,
   "metadata": {},
   "outputs": [],
   "source": [
    "df.drop(df.iloc[:, 12:13], inplace=True, axis=1)\n"
   ]
  },
  {
   "cell_type": "code",
   "execution_count": 81,
   "metadata": {},
   "outputs": [
    {
     "data": {
      "text/html": [
       "<div>\n",
       "<style scoped>\n",
       "    .dataframe tbody tr th:only-of-type {\n",
       "        vertical-align: middle;\n",
       "    }\n",
       "\n",
       "    .dataframe tbody tr th {\n",
       "        vertical-align: top;\n",
       "    }\n",
       "\n",
       "    .dataframe thead th {\n",
       "        text-align: right;\n",
       "    }\n",
       "</style>\n",
       "<table border=\"1\" class=\"dataframe\">\n",
       "  <thead>\n",
       "    <tr style=\"text-align: right;\">\n",
       "      <th></th>\n",
       "      <th>month</th>\n",
       "      <th>day</th>\n",
       "      <th>campaign_number</th>\n",
       "      <th>user_engagement</th>\n",
       "      <th>banner</th>\n",
       "      <th>placement</th>\n",
       "      <th>displays</th>\n",
       "      <th>cost</th>\n",
       "      <th>clicks</th>\n",
       "      <th>revenue</th>\n",
       "      <th>post_click_conversions</th>\n",
       "      <th>post_click_sales_amount</th>\n",
       "    </tr>\n",
       "  </thead>\n",
       "  <tbody>\n",
       "    <tr>\n",
       "      <th>0</th>\n",
       "      <td>April</td>\n",
       "      <td>1</td>\n",
       "      <td>camp 1</td>\n",
       "      <td>High</td>\n",
       "      <td>160 x 600</td>\n",
       "      <td>abc</td>\n",
       "      <td>4</td>\n",
       "      <td>0.0060</td>\n",
       "      <td>0</td>\n",
       "      <td>0.0000</td>\n",
       "      <td>0</td>\n",
       "      <td>0.0000</td>\n",
       "    </tr>\n",
       "    <tr>\n",
       "      <th>1</th>\n",
       "      <td>April</td>\n",
       "      <td>1</td>\n",
       "      <td>camp 1</td>\n",
       "      <td>High</td>\n",
       "      <td>160 x 600</td>\n",
       "      <td>def</td>\n",
       "      <td>20170</td>\n",
       "      <td>26.7824</td>\n",
       "      <td>158</td>\n",
       "      <td>28.9717</td>\n",
       "      <td>23</td>\n",
       "      <td>1972.4602</td>\n",
       "    </tr>\n",
       "    <tr>\n",
       "      <th>2</th>\n",
       "      <td>April</td>\n",
       "      <td>1</td>\n",
       "      <td>camp 1</td>\n",
       "      <td>High</td>\n",
       "      <td>160 x 600</td>\n",
       "      <td>ghi</td>\n",
       "      <td>14701</td>\n",
       "      <td>27.6304</td>\n",
       "      <td>158</td>\n",
       "      <td>28.9771</td>\n",
       "      <td>78</td>\n",
       "      <td>2497.2636</td>\n",
       "    </tr>\n",
       "    <tr>\n",
       "      <th>3</th>\n",
       "      <td>April</td>\n",
       "      <td>1</td>\n",
       "      <td>camp 1</td>\n",
       "      <td>High</td>\n",
       "      <td>160 x 600</td>\n",
       "      <td>mno</td>\n",
       "      <td>171259</td>\n",
       "      <td>216.8750</td>\n",
       "      <td>1796</td>\n",
       "      <td>329.4518</td>\n",
       "      <td>617</td>\n",
       "      <td>24625.3234</td>\n",
       "    </tr>\n",
       "    <tr>\n",
       "      <th>4</th>\n",
       "      <td>April</td>\n",
       "      <td>1</td>\n",
       "      <td>camp 1</td>\n",
       "      <td>Low</td>\n",
       "      <td>160 x 600</td>\n",
       "      <td>def</td>\n",
       "      <td>552</td>\n",
       "      <td>0.0670</td>\n",
       "      <td>1</td>\n",
       "      <td>0.1834</td>\n",
       "      <td>0</td>\n",
       "      <td>0.0000</td>\n",
       "    </tr>\n",
       "  </tbody>\n",
       "</table>\n",
       "</div>"
      ],
      "text/plain": [
       "   month  day campaign_number user_engagement     banner placement  displays  \\\n",
       "0  April    1          camp 1            High  160 x 600       abc         4   \n",
       "1  April    1          camp 1            High  160 x 600       def     20170   \n",
       "2  April    1          camp 1            High  160 x 600       ghi     14701   \n",
       "3  April    1          camp 1            High  160 x 600       mno    171259   \n",
       "4  April    1          camp 1             Low  160 x 600       def       552   \n",
       "\n",
       "       cost  clicks   revenue  post_click_conversions  post_click_sales_amount  \n",
       "0    0.0060       0    0.0000                       0                   0.0000  \n",
       "1   26.7824     158   28.9717                      23                1972.4602  \n",
       "2   27.6304     158   28.9771                      78                2497.2636  \n",
       "3  216.8750    1796  329.4518                     617               24625.3234  \n",
       "4    0.0670       1    0.1834                       0                   0.0000  "
      ]
     },
     "execution_count": 81,
     "metadata": {},
     "output_type": "execute_result"
    }
   ],
   "source": [
    "df.head()"
   ]
  },
  {
   "cell_type": "code",
   "execution_count": 82,
   "metadata": {},
   "outputs": [
    {
     "data": {
      "text/plain": [
       "(15408, 12)"
      ]
     },
     "execution_count": 82,
     "metadata": {},
     "output_type": "execute_result"
    }
   ],
   "source": [
    "df.shape"
   ]
  },
  {
   "cell_type": "code",
   "execution_count": 83,
   "metadata": {},
   "outputs": [
    {
     "name": "stdout",
     "output_type": "stream",
     "text": [
      "<class 'pandas.core.frame.DataFrame'>\n",
      "RangeIndex: 15408 entries, 0 to 15407\n",
      "Data columns (total 12 columns):\n",
      " #   Column                   Non-Null Count  Dtype  \n",
      "---  ------                   --------------  -----  \n",
      " 0   month                    15408 non-null  object \n",
      " 1   day                      15408 non-null  int64  \n",
      " 2   campaign_number          15408 non-null  object \n",
      " 3   user_engagement          15408 non-null  object \n",
      " 4   banner                   15408 non-null  object \n",
      " 5   placement                14995 non-null  object \n",
      " 6   displays                 15408 non-null  int64  \n",
      " 7   cost                     15408 non-null  float64\n",
      " 8   clicks                   15408 non-null  int64  \n",
      " 9   revenue                  15408 non-null  float64\n",
      " 10  post_click_conversions   15408 non-null  int64  \n",
      " 11  post_click_sales_amount  15408 non-null  float64\n",
      "dtypes: float64(3), int64(4), object(5)\n",
      "memory usage: 1.4+ MB\n"
     ]
    }
   ],
   "source": [
    "df.info()"
   ]
  },
  {
   "cell_type": "code",
   "execution_count": 84,
   "metadata": {},
   "outputs": [
    {
     "data": {
      "text/html": [
       "<div>\n",
       "<style scoped>\n",
       "    .dataframe tbody tr th:only-of-type {\n",
       "        vertical-align: middle;\n",
       "    }\n",
       "\n",
       "    .dataframe tbody tr th {\n",
       "        vertical-align: top;\n",
       "    }\n",
       "\n",
       "    .dataframe thead th {\n",
       "        text-align: right;\n",
       "    }\n",
       "</style>\n",
       "<table border=\"1\" class=\"dataframe\">\n",
       "  <thead>\n",
       "    <tr style=\"text-align: right;\">\n",
       "      <th></th>\n",
       "      <th>month</th>\n",
       "      <th>day</th>\n",
       "      <th>campaign_number</th>\n",
       "      <th>user_engagement</th>\n",
       "      <th>banner</th>\n",
       "      <th>placement</th>\n",
       "      <th>displays</th>\n",
       "      <th>cost</th>\n",
       "      <th>clicks</th>\n",
       "      <th>revenue</th>\n",
       "      <th>post_click_conversions</th>\n",
       "      <th>post_click_sales_amount</th>\n",
       "    </tr>\n",
       "  </thead>\n",
       "  <tbody>\n",
       "    <tr>\n",
       "      <th>893</th>\n",
       "      <td>April</td>\n",
       "      <td>5</td>\n",
       "      <td>camp 1</td>\n",
       "      <td>High</td>\n",
       "      <td>728 x 90</td>\n",
       "      <td>NaN</td>\n",
       "      <td>8</td>\n",
       "      <td>0.0152</td>\n",
       "      <td>0</td>\n",
       "      <td>0.0</td>\n",
       "      <td>0</td>\n",
       "      <td>0.0</td>\n",
       "    </tr>\n",
       "    <tr>\n",
       "      <th>951</th>\n",
       "      <td>April</td>\n",
       "      <td>5</td>\n",
       "      <td>camp 2</td>\n",
       "      <td>Low</td>\n",
       "      <td>728 x 90</td>\n",
       "      <td>NaN</td>\n",
       "      <td>2</td>\n",
       "      <td>0.0016</td>\n",
       "      <td>0</td>\n",
       "      <td>0.0</td>\n",
       "      <td>0</td>\n",
       "      <td>0.0</td>\n",
       "    </tr>\n",
       "    <tr>\n",
       "      <th>957</th>\n",
       "      <td>April</td>\n",
       "      <td>5</td>\n",
       "      <td>camp 2</td>\n",
       "      <td>Medium</td>\n",
       "      <td>728 x 90</td>\n",
       "      <td>NaN</td>\n",
       "      <td>4</td>\n",
       "      <td>0.0076</td>\n",
       "      <td>0</td>\n",
       "      <td>0.0</td>\n",
       "      <td>0</td>\n",
       "      <td>0.0</td>\n",
       "    </tr>\n",
       "    <tr>\n",
       "      <th>1034</th>\n",
       "      <td>April</td>\n",
       "      <td>5</td>\n",
       "      <td>camp 3</td>\n",
       "      <td>Medium</td>\n",
       "      <td>728 x 90</td>\n",
       "      <td>NaN</td>\n",
       "      <td>1</td>\n",
       "      <td>0.0008</td>\n",
       "      <td>0</td>\n",
       "      <td>0.0</td>\n",
       "      <td>0</td>\n",
       "      <td>0.0</td>\n",
       "    </tr>\n",
       "    <tr>\n",
       "      <th>1042</th>\n",
       "      <td>April</td>\n",
       "      <td>6</td>\n",
       "      <td>camp 1</td>\n",
       "      <td>High</td>\n",
       "      <td>160 x 600</td>\n",
       "      <td>NaN</td>\n",
       "      <td>1</td>\n",
       "      <td>0.0006</td>\n",
       "      <td>0</td>\n",
       "      <td>0.0</td>\n",
       "      <td>0</td>\n",
       "      <td>0.0</td>\n",
       "    </tr>\n",
       "    <tr>\n",
       "      <th>...</th>\n",
       "      <td>...</td>\n",
       "      <td>...</td>\n",
       "      <td>...</td>\n",
       "      <td>...</td>\n",
       "      <td>...</td>\n",
       "      <td>...</td>\n",
       "      <td>...</td>\n",
       "      <td>...</td>\n",
       "      <td>...</td>\n",
       "      <td>...</td>\n",
       "      <td>...</td>\n",
       "      <td>...</td>\n",
       "    </tr>\n",
       "    <tr>\n",
       "      <th>15259</th>\n",
       "      <td>June</td>\n",
       "      <td>29</td>\n",
       "      <td>camp 3</td>\n",
       "      <td>Low</td>\n",
       "      <td>728 x 90</td>\n",
       "      <td>NaN</td>\n",
       "      <td>1</td>\n",
       "      <td>0.0008</td>\n",
       "      <td>0</td>\n",
       "      <td>0.0</td>\n",
       "      <td>0</td>\n",
       "      <td>0.0</td>\n",
       "    </tr>\n",
       "    <tr>\n",
       "      <th>15265</th>\n",
       "      <td>June</td>\n",
       "      <td>29</td>\n",
       "      <td>camp 3</td>\n",
       "      <td>Medium</td>\n",
       "      <td>728 x 90</td>\n",
       "      <td>NaN</td>\n",
       "      <td>8</td>\n",
       "      <td>0.0064</td>\n",
       "      <td>0</td>\n",
       "      <td>0.0</td>\n",
       "      <td>0</td>\n",
       "      <td>0.0</td>\n",
       "    </tr>\n",
       "    <tr>\n",
       "      <th>15323</th>\n",
       "      <td>June</td>\n",
       "      <td>30</td>\n",
       "      <td>camp 1</td>\n",
       "      <td>High</td>\n",
       "      <td>728 x 90</td>\n",
       "      <td>NaN</td>\n",
       "      <td>13</td>\n",
       "      <td>0.0104</td>\n",
       "      <td>0</td>\n",
       "      <td>0.0</td>\n",
       "      <td>0</td>\n",
       "      <td>0.0</td>\n",
       "    </tr>\n",
       "    <tr>\n",
       "      <th>15391</th>\n",
       "      <td>June</td>\n",
       "      <td>30</td>\n",
       "      <td>camp 3</td>\n",
       "      <td>High</td>\n",
       "      <td>728 x 90</td>\n",
       "      <td>NaN</td>\n",
       "      <td>1</td>\n",
       "      <td>0.0008</td>\n",
       "      <td>0</td>\n",
       "      <td>0.0</td>\n",
       "      <td>0</td>\n",
       "      <td>0.0</td>\n",
       "    </tr>\n",
       "    <tr>\n",
       "      <th>15402</th>\n",
       "      <td>June</td>\n",
       "      <td>30</td>\n",
       "      <td>camp 3</td>\n",
       "      <td>Medium</td>\n",
       "      <td>728 x 90</td>\n",
       "      <td>NaN</td>\n",
       "      <td>6</td>\n",
       "      <td>0.0048</td>\n",
       "      <td>0</td>\n",
       "      <td>0.0</td>\n",
       "      <td>0</td>\n",
       "      <td>0.0</td>\n",
       "    </tr>\n",
       "  </tbody>\n",
       "</table>\n",
       "<p>413 rows × 12 columns</p>\n",
       "</div>"
      ],
      "text/plain": [
       "       month  day campaign_number user_engagement     banner placement  \\\n",
       "893    April    5          camp 1            High   728 x 90       NaN   \n",
       "951    April    5          camp 2             Low   728 x 90       NaN   \n",
       "957    April    5          camp 2          Medium   728 x 90       NaN   \n",
       "1034   April    5          camp 3          Medium   728 x 90       NaN   \n",
       "1042   April    6          camp 1            High  160 x 600       NaN   \n",
       "...      ...  ...             ...             ...        ...       ...   \n",
       "15259   June   29          camp 3             Low   728 x 90       NaN   \n",
       "15265   June   29          camp 3          Medium   728 x 90       NaN   \n",
       "15323   June   30          camp 1            High   728 x 90       NaN   \n",
       "15391   June   30          camp 3            High   728 x 90       NaN   \n",
       "15402   June   30          camp 3          Medium   728 x 90       NaN   \n",
       "\n",
       "       displays    cost  clicks  revenue  post_click_conversions  \\\n",
       "893           8  0.0152       0      0.0                       0   \n",
       "951           2  0.0016       0      0.0                       0   \n",
       "957           4  0.0076       0      0.0                       0   \n",
       "1034          1  0.0008       0      0.0                       0   \n",
       "1042          1  0.0006       0      0.0                       0   \n",
       "...         ...     ...     ...      ...                     ...   \n",
       "15259         1  0.0008       0      0.0                       0   \n",
       "15265         8  0.0064       0      0.0                       0   \n",
       "15323        13  0.0104       0      0.0                       0   \n",
       "15391         1  0.0008       0      0.0                       0   \n",
       "15402         6  0.0048       0      0.0                       0   \n",
       "\n",
       "       post_click_sales_amount  \n",
       "893                        0.0  \n",
       "951                        0.0  \n",
       "957                        0.0  \n",
       "1034                       0.0  \n",
       "1042                       0.0  \n",
       "...                        ...  \n",
       "15259                      0.0  \n",
       "15265                      0.0  \n",
       "15323                      0.0  \n",
       "15391                      0.0  \n",
       "15402                      0.0  \n",
       "\n",
       "[413 rows x 12 columns]"
      ]
     },
     "execution_count": 84,
     "metadata": {},
     "output_type": "execute_result"
    }
   ],
   "source": [
    "df[df['placement'].isnull()]"
   ]
  },
  {
   "cell_type": "code",
   "execution_count": 85,
   "metadata": {},
   "outputs": [
    {
     "data": {
      "text/plain": [
       "placement\n",
       "mno    4501\n",
       "def    3538\n",
       "ghi    3484\n",
       "jkl    2504\n",
       "abc     968\n",
       "Name: count, dtype: int64"
      ]
     },
     "execution_count": 85,
     "metadata": {},
     "output_type": "execute_result"
    }
   ],
   "source": [
    "df['placement'].value_counts()"
   ]
  },
  {
   "cell_type": "markdown",
   "metadata": {},
   "source": [
    "**We have no data for placements of 413 online advertising performances.**\n",
    "**We can replace them with the mode.**\n",
    "**For now we would create a new column and store 'No Data Available'**"
   ]
  },
  {
   "cell_type": "code",
   "execution_count": 86,
   "metadata": {},
   "outputs": [],
   "source": [
    "df['updated_placement'] = df['placement']"
   ]
  },
  {
   "cell_type": "code",
   "execution_count": 87,
   "metadata": {},
   "outputs": [],
   "source": [
    "df['updated_placement'].fillna('No Data Available',inplace=True)"
   ]
  },
  {
   "cell_type": "code",
   "execution_count": 88,
   "metadata": {},
   "outputs": [
    {
     "data": {
      "text/plain": [
       "0"
      ]
     },
     "execution_count": 88,
     "metadata": {},
     "output_type": "execute_result"
    }
   ],
   "source": [
    "df['updated_placement'].isnull().sum()"
   ]
  },
  {
   "cell_type": "code",
   "execution_count": 89,
   "metadata": {},
   "outputs": [
    {
     "name": "stdout",
     "output_type": "stream",
     "text": [
      "<class 'pandas.core.frame.DataFrame'>\n",
      "RangeIndex: 15408 entries, 0 to 15407\n",
      "Data columns (total 13 columns):\n",
      " #   Column                   Non-Null Count  Dtype  \n",
      "---  ------                   --------------  -----  \n",
      " 0   month                    15408 non-null  object \n",
      " 1   day                      15408 non-null  int64  \n",
      " 2   campaign_number          15408 non-null  object \n",
      " 3   user_engagement          15408 non-null  object \n",
      " 4   banner                   15408 non-null  object \n",
      " 5   placement                14995 non-null  object \n",
      " 6   displays                 15408 non-null  int64  \n",
      " 7   cost                     15408 non-null  float64\n",
      " 8   clicks                   15408 non-null  int64  \n",
      " 9   revenue                  15408 non-null  float64\n",
      " 10  post_click_conversions   15408 non-null  int64  \n",
      " 11  post_click_sales_amount  15408 non-null  float64\n",
      " 12  updated_placement        15408 non-null  object \n",
      "dtypes: float64(3), int64(4), object(6)\n",
      "memory usage: 1.5+ MB\n"
     ]
    }
   ],
   "source": [
    "df.info()"
   ]
  },
  {
   "cell_type": "code",
   "execution_count": 90,
   "metadata": {},
   "outputs": [
    {
     "data": {
      "text/html": [
       "<div>\n",
       "<style scoped>\n",
       "    .dataframe tbody tr th:only-of-type {\n",
       "        vertical-align: middle;\n",
       "    }\n",
       "\n",
       "    .dataframe tbody tr th {\n",
       "        vertical-align: top;\n",
       "    }\n",
       "\n",
       "    .dataframe thead th {\n",
       "        text-align: right;\n",
       "    }\n",
       "</style>\n",
       "<table border=\"1\" class=\"dataframe\">\n",
       "  <thead>\n",
       "    <tr style=\"text-align: right;\">\n",
       "      <th></th>\n",
       "      <th>month</th>\n",
       "      <th>day</th>\n",
       "      <th>campaign_number</th>\n",
       "      <th>user_engagement</th>\n",
       "      <th>banner</th>\n",
       "      <th>placement</th>\n",
       "      <th>displays</th>\n",
       "      <th>cost</th>\n",
       "      <th>clicks</th>\n",
       "      <th>revenue</th>\n",
       "      <th>post_click_conversions</th>\n",
       "      <th>post_click_sales_amount</th>\n",
       "      <th>updated_placement</th>\n",
       "    </tr>\n",
       "  </thead>\n",
       "  <tbody>\n",
       "    <tr>\n",
       "      <th>5</th>\n",
       "      <td>April</td>\n",
       "      <td>1</td>\n",
       "      <td>camp 1</td>\n",
       "      <td>Low</td>\n",
       "      <td>160 x 600</td>\n",
       "      <td>ghi</td>\n",
       "      <td>16</td>\n",
       "      <td>0.0249</td>\n",
       "      <td>0</td>\n",
       "      <td>0.0000</td>\n",
       "      <td>0</td>\n",
       "      <td>0.0000</td>\n",
       "      <td>ghi</td>\n",
       "    </tr>\n",
       "    <tr>\n",
       "      <th>6</th>\n",
       "      <td>April</td>\n",
       "      <td>1</td>\n",
       "      <td>camp 1</td>\n",
       "      <td>Low</td>\n",
       "      <td>160 x 600</td>\n",
       "      <td>mno</td>\n",
       "      <td>2234</td>\n",
       "      <td>0.4044</td>\n",
       "      <td>10</td>\n",
       "      <td>1.8347</td>\n",
       "      <td>3</td>\n",
       "      <td>101.7494</td>\n",
       "      <td>mno</td>\n",
       "    </tr>\n",
       "    <tr>\n",
       "      <th>15196</th>\n",
       "      <td>June</td>\n",
       "      <td>29</td>\n",
       "      <td>camp 1</td>\n",
       "      <td>High</td>\n",
       "      <td>800 x 250</td>\n",
       "      <td>ghi</td>\n",
       "      <td>1</td>\n",
       "      <td>0.0157</td>\n",
       "      <td>0</td>\n",
       "      <td>0.0000</td>\n",
       "      <td>0</td>\n",
       "      <td>0.0000</td>\n",
       "      <td>ghi</td>\n",
       "    </tr>\n",
       "    <tr>\n",
       "      <th>15197</th>\n",
       "      <td>June</td>\n",
       "      <td>29</td>\n",
       "      <td>camp 1</td>\n",
       "      <td>High</td>\n",
       "      <td>800 x 250</td>\n",
       "      <td>mno</td>\n",
       "      <td>4</td>\n",
       "      <td>0.0123</td>\n",
       "      <td>0</td>\n",
       "      <td>0.0000</td>\n",
       "      <td>0</td>\n",
       "      <td>0.0000</td>\n",
       "      <td>mno</td>\n",
       "    </tr>\n",
       "    <tr>\n",
       "      <th>15198</th>\n",
       "      <td>June</td>\n",
       "      <td>29</td>\n",
       "      <td>camp 3</td>\n",
       "      <td>High</td>\n",
       "      <td>240 x 400</td>\n",
       "      <td>def</td>\n",
       "      <td>1209</td>\n",
       "      <td>0.3184</td>\n",
       "      <td>2</td>\n",
       "      <td>0.1115</td>\n",
       "      <td>3</td>\n",
       "      <td>110.4224</td>\n",
       "      <td>def</td>\n",
       "    </tr>\n",
       "    <tr>\n",
       "      <th>15403</th>\n",
       "      <td>April</td>\n",
       "      <td>1</td>\n",
       "      <td>camp 1</td>\n",
       "      <td>Low</td>\n",
       "      <td>160 x 600</td>\n",
       "      <td>ghi</td>\n",
       "      <td>16</td>\n",
       "      <td>0.0249</td>\n",
       "      <td>0</td>\n",
       "      <td>0.0000</td>\n",
       "      <td>0</td>\n",
       "      <td>0.0000</td>\n",
       "      <td>ghi</td>\n",
       "    </tr>\n",
       "    <tr>\n",
       "      <th>15404</th>\n",
       "      <td>April</td>\n",
       "      <td>1</td>\n",
       "      <td>camp 1</td>\n",
       "      <td>Low</td>\n",
       "      <td>160 x 600</td>\n",
       "      <td>mno</td>\n",
       "      <td>2234</td>\n",
       "      <td>0.4044</td>\n",
       "      <td>10</td>\n",
       "      <td>1.8347</td>\n",
       "      <td>3</td>\n",
       "      <td>101.7494</td>\n",
       "      <td>mno</td>\n",
       "    </tr>\n",
       "    <tr>\n",
       "      <th>15405</th>\n",
       "      <td>June</td>\n",
       "      <td>29</td>\n",
       "      <td>camp 1</td>\n",
       "      <td>High</td>\n",
       "      <td>800 x 250</td>\n",
       "      <td>ghi</td>\n",
       "      <td>1</td>\n",
       "      <td>0.0157</td>\n",
       "      <td>0</td>\n",
       "      <td>0.0000</td>\n",
       "      <td>0</td>\n",
       "      <td>0.0000</td>\n",
       "      <td>ghi</td>\n",
       "    </tr>\n",
       "    <tr>\n",
       "      <th>15406</th>\n",
       "      <td>June</td>\n",
       "      <td>29</td>\n",
       "      <td>camp 1</td>\n",
       "      <td>High</td>\n",
       "      <td>800 x 250</td>\n",
       "      <td>mno</td>\n",
       "      <td>4</td>\n",
       "      <td>0.0123</td>\n",
       "      <td>0</td>\n",
       "      <td>0.0000</td>\n",
       "      <td>0</td>\n",
       "      <td>0.0000</td>\n",
       "      <td>mno</td>\n",
       "    </tr>\n",
       "    <tr>\n",
       "      <th>15407</th>\n",
       "      <td>June</td>\n",
       "      <td>29</td>\n",
       "      <td>camp 3</td>\n",
       "      <td>High</td>\n",
       "      <td>240 x 400</td>\n",
       "      <td>def</td>\n",
       "      <td>1209</td>\n",
       "      <td>0.3184</td>\n",
       "      <td>2</td>\n",
       "      <td>0.1115</td>\n",
       "      <td>3</td>\n",
       "      <td>110.4224</td>\n",
       "      <td>def</td>\n",
       "    </tr>\n",
       "  </tbody>\n",
       "</table>\n",
       "</div>"
      ],
      "text/plain": [
       "       month  day campaign_number user_engagement     banner placement  \\\n",
       "5      April    1          camp 1             Low  160 x 600       ghi   \n",
       "6      April    1          camp 1             Low  160 x 600       mno   \n",
       "15196   June   29          camp 1            High  800 x 250       ghi   \n",
       "15197   June   29          camp 1            High  800 x 250       mno   \n",
       "15198   June   29          camp 3            High  240 x 400       def   \n",
       "15403  April    1          camp 1             Low  160 x 600       ghi   \n",
       "15404  April    1          camp 1             Low  160 x 600       mno   \n",
       "15405   June   29          camp 1            High  800 x 250       ghi   \n",
       "15406   June   29          camp 1            High  800 x 250       mno   \n",
       "15407   June   29          camp 3            High  240 x 400       def   \n",
       "\n",
       "       displays    cost  clicks  revenue  post_click_conversions  \\\n",
       "5            16  0.0249       0   0.0000                       0   \n",
       "6          2234  0.4044      10   1.8347                       3   \n",
       "15196         1  0.0157       0   0.0000                       0   \n",
       "15197         4  0.0123       0   0.0000                       0   \n",
       "15198      1209  0.3184       2   0.1115                       3   \n",
       "15403        16  0.0249       0   0.0000                       0   \n",
       "15404      2234  0.4044      10   1.8347                       3   \n",
       "15405         1  0.0157       0   0.0000                       0   \n",
       "15406         4  0.0123       0   0.0000                       0   \n",
       "15407      1209  0.3184       2   0.1115                       3   \n",
       "\n",
       "       post_click_sales_amount updated_placement  \n",
       "5                       0.0000               ghi  \n",
       "6                     101.7494               mno  \n",
       "15196                   0.0000               ghi  \n",
       "15197                   0.0000               mno  \n",
       "15198                 110.4224               def  \n",
       "15403                   0.0000               ghi  \n",
       "15404                 101.7494               mno  \n",
       "15405                   0.0000               ghi  \n",
       "15406                   0.0000               mno  \n",
       "15407                 110.4224               def  "
      ]
     },
     "execution_count": 90,
     "metadata": {},
     "output_type": "execute_result"
    }
   ],
   "source": [
    "df[df.duplicated(keep=False)]"
   ]
  },
  {
   "cell_type": "markdown",
   "metadata": {},
   "source": [
    "**There are 5 rows with duplication.We need to drop these 5 rows.**"
   ]
  },
  {
   "cell_type": "code",
   "execution_count": 91,
   "metadata": {},
   "outputs": [],
   "source": [
    "df.drop_duplicates(inplace=True)"
   ]
  },
  {
   "cell_type": "code",
   "execution_count": 92,
   "metadata": {},
   "outputs": [
    {
     "data": {
      "text/plain": [
       "(15403, 13)"
      ]
     },
     "execution_count": 92,
     "metadata": {},
     "output_type": "execute_result"
    }
   ],
   "source": [
    "df.shape"
   ]
  },
  {
   "cell_type": "code",
   "execution_count": 93,
   "metadata": {},
   "outputs": [
    {
     "name": "stdout",
     "output_type": "stream",
     "text": [
      "<class 'pandas.core.frame.DataFrame'>\n",
      "Index: 15403 entries, 0 to 15402\n",
      "Data columns (total 13 columns):\n",
      " #   Column                   Non-Null Count  Dtype  \n",
      "---  ------                   --------------  -----  \n",
      " 0   month                    15403 non-null  object \n",
      " 1   day                      15403 non-null  int64  \n",
      " 2   campaign_number          15403 non-null  object \n",
      " 3   user_engagement          15403 non-null  object \n",
      " 4   banner                   15403 non-null  object \n",
      " 5   placement                14990 non-null  object \n",
      " 6   displays                 15403 non-null  int64  \n",
      " 7   cost                     15403 non-null  float64\n",
      " 8   clicks                   15403 non-null  int64  \n",
      " 9   revenue                  15403 non-null  float64\n",
      " 10  post_click_conversions   15403 non-null  int64  \n",
      " 11  post_click_sales_amount  15403 non-null  float64\n",
      " 12  updated_placement        15403 non-null  object \n",
      "dtypes: float64(3), int64(4), object(6)\n",
      "memory usage: 1.6+ MB\n"
     ]
    }
   ],
   "source": [
    "df.info()"
   ]
  },
  {
   "cell_type": "markdown",
   "metadata": {},
   "source": [
    "**Automatic Assessment**\n",
    "- head and tail\n",
    "- sample\n",
    "- info\n",
    "- isnull\n",
    "- duplicated\n",
    "- describe"
   ]
  },
  {
   "cell_type": "code",
   "execution_count": 94,
   "metadata": {},
   "outputs": [
    {
     "data": {
      "text/html": [
       "<div>\n",
       "<style scoped>\n",
       "    .dataframe tbody tr th:only-of-type {\n",
       "        vertical-align: middle;\n",
       "    }\n",
       "\n",
       "    .dataframe tbody tr th {\n",
       "        vertical-align: top;\n",
       "    }\n",
       "\n",
       "    .dataframe thead th {\n",
       "        text-align: right;\n",
       "    }\n",
       "</style>\n",
       "<table border=\"1\" class=\"dataframe\">\n",
       "  <thead>\n",
       "    <tr style=\"text-align: right;\">\n",
       "      <th></th>\n",
       "      <th>month</th>\n",
       "      <th>day</th>\n",
       "      <th>campaign_number</th>\n",
       "      <th>user_engagement</th>\n",
       "      <th>banner</th>\n",
       "      <th>placement</th>\n",
       "      <th>displays</th>\n",
       "      <th>cost</th>\n",
       "      <th>clicks</th>\n",
       "      <th>revenue</th>\n",
       "      <th>post_click_conversions</th>\n",
       "      <th>post_click_sales_amount</th>\n",
       "      <th>updated_placement</th>\n",
       "    </tr>\n",
       "  </thead>\n",
       "  <tbody>\n",
       "    <tr>\n",
       "      <th>0</th>\n",
       "      <td>April</td>\n",
       "      <td>1</td>\n",
       "      <td>camp 1</td>\n",
       "      <td>High</td>\n",
       "      <td>160 x 600</td>\n",
       "      <td>abc</td>\n",
       "      <td>4</td>\n",
       "      <td>0.0060</td>\n",
       "      <td>0</td>\n",
       "      <td>0.0000</td>\n",
       "      <td>0</td>\n",
       "      <td>0.0000</td>\n",
       "      <td>abc</td>\n",
       "    </tr>\n",
       "    <tr>\n",
       "      <th>1</th>\n",
       "      <td>April</td>\n",
       "      <td>1</td>\n",
       "      <td>camp 1</td>\n",
       "      <td>High</td>\n",
       "      <td>160 x 600</td>\n",
       "      <td>def</td>\n",
       "      <td>20170</td>\n",
       "      <td>26.7824</td>\n",
       "      <td>158</td>\n",
       "      <td>28.9717</td>\n",
       "      <td>23</td>\n",
       "      <td>1972.4602</td>\n",
       "      <td>def</td>\n",
       "    </tr>\n",
       "    <tr>\n",
       "      <th>2</th>\n",
       "      <td>April</td>\n",
       "      <td>1</td>\n",
       "      <td>camp 1</td>\n",
       "      <td>High</td>\n",
       "      <td>160 x 600</td>\n",
       "      <td>ghi</td>\n",
       "      <td>14701</td>\n",
       "      <td>27.6304</td>\n",
       "      <td>158</td>\n",
       "      <td>28.9771</td>\n",
       "      <td>78</td>\n",
       "      <td>2497.2636</td>\n",
       "      <td>ghi</td>\n",
       "    </tr>\n",
       "    <tr>\n",
       "      <th>3</th>\n",
       "      <td>April</td>\n",
       "      <td>1</td>\n",
       "      <td>camp 1</td>\n",
       "      <td>High</td>\n",
       "      <td>160 x 600</td>\n",
       "      <td>mno</td>\n",
       "      <td>171259</td>\n",
       "      <td>216.8750</td>\n",
       "      <td>1796</td>\n",
       "      <td>329.4518</td>\n",
       "      <td>617</td>\n",
       "      <td>24625.3234</td>\n",
       "      <td>mno</td>\n",
       "    </tr>\n",
       "    <tr>\n",
       "      <th>4</th>\n",
       "      <td>April</td>\n",
       "      <td>1</td>\n",
       "      <td>camp 1</td>\n",
       "      <td>Low</td>\n",
       "      <td>160 x 600</td>\n",
       "      <td>def</td>\n",
       "      <td>552</td>\n",
       "      <td>0.0670</td>\n",
       "      <td>1</td>\n",
       "      <td>0.1834</td>\n",
       "      <td>0</td>\n",
       "      <td>0.0000</td>\n",
       "      <td>def</td>\n",
       "    </tr>\n",
       "  </tbody>\n",
       "</table>\n",
       "</div>"
      ],
      "text/plain": [
       "   month  day campaign_number user_engagement     banner placement  displays  \\\n",
       "0  April    1          camp 1            High  160 x 600       abc         4   \n",
       "1  April    1          camp 1            High  160 x 600       def     20170   \n",
       "2  April    1          camp 1            High  160 x 600       ghi     14701   \n",
       "3  April    1          camp 1            High  160 x 600       mno    171259   \n",
       "4  April    1          camp 1             Low  160 x 600       def       552   \n",
       "\n",
       "       cost  clicks   revenue  post_click_conversions  \\\n",
       "0    0.0060       0    0.0000                       0   \n",
       "1   26.7824     158   28.9717                      23   \n",
       "2   27.6304     158   28.9771                      78   \n",
       "3  216.8750    1796  329.4518                     617   \n",
       "4    0.0670       1    0.1834                       0   \n",
       "\n",
       "   post_click_sales_amount updated_placement  \n",
       "0                   0.0000               abc  \n",
       "1                1972.4602               def  \n",
       "2                2497.2636               ghi  \n",
       "3               24625.3234               mno  \n",
       "4                   0.0000               def  "
      ]
     },
     "execution_count": 94,
     "metadata": {},
     "output_type": "execute_result"
    }
   ],
   "source": [
    "df.head()"
   ]
  },
  {
   "cell_type": "code",
   "execution_count": 95,
   "metadata": {},
   "outputs": [
    {
     "data": {
      "text/html": [
       "<div>\n",
       "<style scoped>\n",
       "    .dataframe tbody tr th:only-of-type {\n",
       "        vertical-align: middle;\n",
       "    }\n",
       "\n",
       "    .dataframe tbody tr th {\n",
       "        vertical-align: top;\n",
       "    }\n",
       "\n",
       "    .dataframe thead th {\n",
       "        text-align: right;\n",
       "    }\n",
       "</style>\n",
       "<table border=\"1\" class=\"dataframe\">\n",
       "  <thead>\n",
       "    <tr style=\"text-align: right;\">\n",
       "      <th></th>\n",
       "      <th>month</th>\n",
       "      <th>day</th>\n",
       "      <th>campaign_number</th>\n",
       "      <th>user_engagement</th>\n",
       "      <th>banner</th>\n",
       "      <th>placement</th>\n",
       "      <th>displays</th>\n",
       "      <th>cost</th>\n",
       "      <th>clicks</th>\n",
       "      <th>revenue</th>\n",
       "      <th>post_click_conversions</th>\n",
       "      <th>post_click_sales_amount</th>\n",
       "      <th>updated_placement</th>\n",
       "    </tr>\n",
       "  </thead>\n",
       "  <tbody>\n",
       "    <tr>\n",
       "      <th>15398</th>\n",
       "      <td>June</td>\n",
       "      <td>30</td>\n",
       "      <td>camp 3</td>\n",
       "      <td>Medium</td>\n",
       "      <td>728 x 90</td>\n",
       "      <td>def</td>\n",
       "      <td>5963</td>\n",
       "      <td>0.7884</td>\n",
       "      <td>40</td>\n",
       "      <td>2.2513</td>\n",
       "      <td>3</td>\n",
       "      <td>69.4256</td>\n",
       "      <td>def</td>\n",
       "    </tr>\n",
       "    <tr>\n",
       "      <th>15399</th>\n",
       "      <td>June</td>\n",
       "      <td>30</td>\n",
       "      <td>camp 3</td>\n",
       "      <td>Medium</td>\n",
       "      <td>728 x 90</td>\n",
       "      <td>ghi</td>\n",
       "      <td>710</td>\n",
       "      <td>0.9867</td>\n",
       "      <td>22</td>\n",
       "      <td>1.2386</td>\n",
       "      <td>0</td>\n",
       "      <td>0.0000</td>\n",
       "      <td>ghi</td>\n",
       "    </tr>\n",
       "    <tr>\n",
       "      <th>15400</th>\n",
       "      <td>June</td>\n",
       "      <td>30</td>\n",
       "      <td>camp 3</td>\n",
       "      <td>Medium</td>\n",
       "      <td>728 x 90</td>\n",
       "      <td>jkl</td>\n",
       "      <td>490</td>\n",
       "      <td>0.1686</td>\n",
       "      <td>8</td>\n",
       "      <td>0.4504</td>\n",
       "      <td>0</td>\n",
       "      <td>0.0000</td>\n",
       "      <td>jkl</td>\n",
       "    </tr>\n",
       "    <tr>\n",
       "      <th>15401</th>\n",
       "      <td>June</td>\n",
       "      <td>30</td>\n",
       "      <td>camp 3</td>\n",
       "      <td>Medium</td>\n",
       "      <td>728 x 90</td>\n",
       "      <td>mno</td>\n",
       "      <td>37790</td>\n",
       "      <td>2.6023</td>\n",
       "      <td>195</td>\n",
       "      <td>10.9785</td>\n",
       "      <td>0</td>\n",
       "      <td>0.0000</td>\n",
       "      <td>mno</td>\n",
       "    </tr>\n",
       "    <tr>\n",
       "      <th>15402</th>\n",
       "      <td>June</td>\n",
       "      <td>30</td>\n",
       "      <td>camp 3</td>\n",
       "      <td>Medium</td>\n",
       "      <td>728 x 90</td>\n",
       "      <td>NaN</td>\n",
       "      <td>6</td>\n",
       "      <td>0.0048</td>\n",
       "      <td>0</td>\n",
       "      <td>0.0000</td>\n",
       "      <td>0</td>\n",
       "      <td>0.0000</td>\n",
       "      <td>No Data Available</td>\n",
       "    </tr>\n",
       "  </tbody>\n",
       "</table>\n",
       "</div>"
      ],
      "text/plain": [
       "      month  day campaign_number user_engagement    banner placement  \\\n",
       "15398  June   30          camp 3          Medium  728 x 90       def   \n",
       "15399  June   30          camp 3          Medium  728 x 90       ghi   \n",
       "15400  June   30          camp 3          Medium  728 x 90       jkl   \n",
       "15401  June   30          camp 3          Medium  728 x 90       mno   \n",
       "15402  June   30          camp 3          Medium  728 x 90       NaN   \n",
       "\n",
       "       displays    cost  clicks  revenue  post_click_conversions  \\\n",
       "15398      5963  0.7884      40   2.2513                       3   \n",
       "15399       710  0.9867      22   1.2386                       0   \n",
       "15400       490  0.1686       8   0.4504                       0   \n",
       "15401     37790  2.6023     195  10.9785                       0   \n",
       "15402         6  0.0048       0   0.0000                       0   \n",
       "\n",
       "       post_click_sales_amount  updated_placement  \n",
       "15398                  69.4256                def  \n",
       "15399                   0.0000                ghi  \n",
       "15400                   0.0000                jkl  \n",
       "15401                   0.0000                mno  \n",
       "15402                   0.0000  No Data Available  "
      ]
     },
     "execution_count": 95,
     "metadata": {},
     "output_type": "execute_result"
    }
   ],
   "source": [
    "df.tail()"
   ]
  },
  {
   "cell_type": "code",
   "execution_count": 96,
   "metadata": {},
   "outputs": [
    {
     "name": "stdout",
     "output_type": "stream",
     "text": [
      "<class 'pandas.core.frame.DataFrame'>\n",
      "Index: 15403 entries, 0 to 15402\n",
      "Data columns (total 13 columns):\n",
      " #   Column                   Non-Null Count  Dtype  \n",
      "---  ------                   --------------  -----  \n",
      " 0   month                    15403 non-null  object \n",
      " 1   day                      15403 non-null  int64  \n",
      " 2   campaign_number          15403 non-null  object \n",
      " 3   user_engagement          15403 non-null  object \n",
      " 4   banner                   15403 non-null  object \n",
      " 5   placement                14990 non-null  object \n",
      " 6   displays                 15403 non-null  int64  \n",
      " 7   cost                     15403 non-null  float64\n",
      " 8   clicks                   15403 non-null  int64  \n",
      " 9   revenue                  15403 non-null  float64\n",
      " 10  post_click_conversions   15403 non-null  int64  \n",
      " 11  post_click_sales_amount  15403 non-null  float64\n",
      " 12  updated_placement        15403 non-null  object \n",
      "dtypes: float64(3), int64(4), object(6)\n",
      "memory usage: 1.6+ MB\n"
     ]
    }
   ],
   "source": [
    "df.info()"
   ]
  },
  {
   "cell_type": "markdown",
   "metadata": {},
   "source": [
    "**There are a few null values in placement column. But we will be using updated placement column for our analysis.**"
   ]
  },
  {
   "cell_type": "code",
   "execution_count": 97,
   "metadata": {},
   "outputs": [
    {
     "data": {
      "text/html": [
       "<div>\n",
       "<style scoped>\n",
       "    .dataframe tbody tr th:only-of-type {\n",
       "        vertical-align: middle;\n",
       "    }\n",
       "\n",
       "    .dataframe tbody tr th {\n",
       "        vertical-align: top;\n",
       "    }\n",
       "\n",
       "    .dataframe thead th {\n",
       "        text-align: right;\n",
       "    }\n",
       "</style>\n",
       "<table border=\"1\" class=\"dataframe\">\n",
       "  <thead>\n",
       "    <tr style=\"text-align: right;\">\n",
       "      <th></th>\n",
       "      <th>month</th>\n",
       "      <th>day</th>\n",
       "      <th>campaign_number</th>\n",
       "      <th>user_engagement</th>\n",
       "      <th>banner</th>\n",
       "      <th>placement</th>\n",
       "      <th>displays</th>\n",
       "      <th>cost</th>\n",
       "      <th>clicks</th>\n",
       "      <th>revenue</th>\n",
       "      <th>post_click_conversions</th>\n",
       "      <th>post_click_sales_amount</th>\n",
       "      <th>updated_placement</th>\n",
       "    </tr>\n",
       "  </thead>\n",
       "  <tbody>\n",
       "    <tr>\n",
       "      <th>0</th>\n",
       "      <td>False</td>\n",
       "      <td>False</td>\n",
       "      <td>False</td>\n",
       "      <td>False</td>\n",
       "      <td>False</td>\n",
       "      <td>False</td>\n",
       "      <td>False</td>\n",
       "      <td>False</td>\n",
       "      <td>False</td>\n",
       "      <td>False</td>\n",
       "      <td>False</td>\n",
       "      <td>False</td>\n",
       "      <td>False</td>\n",
       "    </tr>\n",
       "    <tr>\n",
       "      <th>1</th>\n",
       "      <td>False</td>\n",
       "      <td>False</td>\n",
       "      <td>False</td>\n",
       "      <td>False</td>\n",
       "      <td>False</td>\n",
       "      <td>False</td>\n",
       "      <td>False</td>\n",
       "      <td>False</td>\n",
       "      <td>False</td>\n",
       "      <td>False</td>\n",
       "      <td>False</td>\n",
       "      <td>False</td>\n",
       "      <td>False</td>\n",
       "    </tr>\n",
       "    <tr>\n",
       "      <th>2</th>\n",
       "      <td>False</td>\n",
       "      <td>False</td>\n",
       "      <td>False</td>\n",
       "      <td>False</td>\n",
       "      <td>False</td>\n",
       "      <td>False</td>\n",
       "      <td>False</td>\n",
       "      <td>False</td>\n",
       "      <td>False</td>\n",
       "      <td>False</td>\n",
       "      <td>False</td>\n",
       "      <td>False</td>\n",
       "      <td>False</td>\n",
       "    </tr>\n",
       "    <tr>\n",
       "      <th>3</th>\n",
       "      <td>False</td>\n",
       "      <td>False</td>\n",
       "      <td>False</td>\n",
       "      <td>False</td>\n",
       "      <td>False</td>\n",
       "      <td>False</td>\n",
       "      <td>False</td>\n",
       "      <td>False</td>\n",
       "      <td>False</td>\n",
       "      <td>False</td>\n",
       "      <td>False</td>\n",
       "      <td>False</td>\n",
       "      <td>False</td>\n",
       "    </tr>\n",
       "    <tr>\n",
       "      <th>4</th>\n",
       "      <td>False</td>\n",
       "      <td>False</td>\n",
       "      <td>False</td>\n",
       "      <td>False</td>\n",
       "      <td>False</td>\n",
       "      <td>False</td>\n",
       "      <td>False</td>\n",
       "      <td>False</td>\n",
       "      <td>False</td>\n",
       "      <td>False</td>\n",
       "      <td>False</td>\n",
       "      <td>False</td>\n",
       "      <td>False</td>\n",
       "    </tr>\n",
       "    <tr>\n",
       "      <th>...</th>\n",
       "      <td>...</td>\n",
       "      <td>...</td>\n",
       "      <td>...</td>\n",
       "      <td>...</td>\n",
       "      <td>...</td>\n",
       "      <td>...</td>\n",
       "      <td>...</td>\n",
       "      <td>...</td>\n",
       "      <td>...</td>\n",
       "      <td>...</td>\n",
       "      <td>...</td>\n",
       "      <td>...</td>\n",
       "      <td>...</td>\n",
       "    </tr>\n",
       "    <tr>\n",
       "      <th>15398</th>\n",
       "      <td>False</td>\n",
       "      <td>False</td>\n",
       "      <td>False</td>\n",
       "      <td>False</td>\n",
       "      <td>False</td>\n",
       "      <td>False</td>\n",
       "      <td>False</td>\n",
       "      <td>False</td>\n",
       "      <td>False</td>\n",
       "      <td>False</td>\n",
       "      <td>False</td>\n",
       "      <td>False</td>\n",
       "      <td>False</td>\n",
       "    </tr>\n",
       "    <tr>\n",
       "      <th>15399</th>\n",
       "      <td>False</td>\n",
       "      <td>False</td>\n",
       "      <td>False</td>\n",
       "      <td>False</td>\n",
       "      <td>False</td>\n",
       "      <td>False</td>\n",
       "      <td>False</td>\n",
       "      <td>False</td>\n",
       "      <td>False</td>\n",
       "      <td>False</td>\n",
       "      <td>False</td>\n",
       "      <td>False</td>\n",
       "      <td>False</td>\n",
       "    </tr>\n",
       "    <tr>\n",
       "      <th>15400</th>\n",
       "      <td>False</td>\n",
       "      <td>False</td>\n",
       "      <td>False</td>\n",
       "      <td>False</td>\n",
       "      <td>False</td>\n",
       "      <td>False</td>\n",
       "      <td>False</td>\n",
       "      <td>False</td>\n",
       "      <td>False</td>\n",
       "      <td>False</td>\n",
       "      <td>False</td>\n",
       "      <td>False</td>\n",
       "      <td>False</td>\n",
       "    </tr>\n",
       "    <tr>\n",
       "      <th>15401</th>\n",
       "      <td>False</td>\n",
       "      <td>False</td>\n",
       "      <td>False</td>\n",
       "      <td>False</td>\n",
       "      <td>False</td>\n",
       "      <td>False</td>\n",
       "      <td>False</td>\n",
       "      <td>False</td>\n",
       "      <td>False</td>\n",
       "      <td>False</td>\n",
       "      <td>False</td>\n",
       "      <td>False</td>\n",
       "      <td>False</td>\n",
       "    </tr>\n",
       "    <tr>\n",
       "      <th>15402</th>\n",
       "      <td>False</td>\n",
       "      <td>False</td>\n",
       "      <td>False</td>\n",
       "      <td>False</td>\n",
       "      <td>False</td>\n",
       "      <td>True</td>\n",
       "      <td>False</td>\n",
       "      <td>False</td>\n",
       "      <td>False</td>\n",
       "      <td>False</td>\n",
       "      <td>False</td>\n",
       "      <td>False</td>\n",
       "      <td>False</td>\n",
       "    </tr>\n",
       "  </tbody>\n",
       "</table>\n",
       "<p>15403 rows × 13 columns</p>\n",
       "</div>"
      ],
      "text/plain": [
       "       month    day  campaign_number  user_engagement  banner  placement  \\\n",
       "0      False  False            False            False   False      False   \n",
       "1      False  False            False            False   False      False   \n",
       "2      False  False            False            False   False      False   \n",
       "3      False  False            False            False   False      False   \n",
       "4      False  False            False            False   False      False   \n",
       "...      ...    ...              ...              ...     ...        ...   \n",
       "15398  False  False            False            False   False      False   \n",
       "15399  False  False            False            False   False      False   \n",
       "15400  False  False            False            False   False      False   \n",
       "15401  False  False            False            False   False      False   \n",
       "15402  False  False            False            False   False       True   \n",
       "\n",
       "       displays   cost  clicks  revenue  post_click_conversions  \\\n",
       "0         False  False   False    False                   False   \n",
       "1         False  False   False    False                   False   \n",
       "2         False  False   False    False                   False   \n",
       "3         False  False   False    False                   False   \n",
       "4         False  False   False    False                   False   \n",
       "...         ...    ...     ...      ...                     ...   \n",
       "15398     False  False   False    False                   False   \n",
       "15399     False  False   False    False                   False   \n",
       "15400     False  False   False    False                   False   \n",
       "15401     False  False   False    False                   False   \n",
       "15402     False  False   False    False                   False   \n",
       "\n",
       "       post_click_sales_amount  updated_placement  \n",
       "0                        False              False  \n",
       "1                        False              False  \n",
       "2                        False              False  \n",
       "3                        False              False  \n",
       "4                        False              False  \n",
       "...                        ...                ...  \n",
       "15398                    False              False  \n",
       "15399                    False              False  \n",
       "15400                    False              False  \n",
       "15401                    False              False  \n",
       "15402                    False              False  \n",
       "\n",
       "[15403 rows x 13 columns]"
      ]
     },
     "execution_count": 97,
     "metadata": {},
     "output_type": "execute_result"
    }
   ],
   "source": [
    "df.isnull() "
   ]
  },
  {
   "cell_type": "code",
   "execution_count": 98,
   "metadata": {},
   "outputs": [
    {
     "data": {
      "text/plain": [
       "(0, 13)"
      ]
     },
     "execution_count": 98,
     "metadata": {},
     "output_type": "execute_result"
    }
   ],
   "source": [
    "df[df.duplicated()].shape"
   ]
  },
  {
   "cell_type": "code",
   "execution_count": 99,
   "metadata": {},
   "outputs": [
    {
     "data": {
      "text/html": [
       "<div>\n",
       "<style scoped>\n",
       "    .dataframe tbody tr th:only-of-type {\n",
       "        vertical-align: middle;\n",
       "    }\n",
       "\n",
       "    .dataframe tbody tr th {\n",
       "        vertical-align: top;\n",
       "    }\n",
       "\n",
       "    .dataframe thead th {\n",
       "        text-align: right;\n",
       "    }\n",
       "</style>\n",
       "<table border=\"1\" class=\"dataframe\">\n",
       "  <thead>\n",
       "    <tr style=\"text-align: right;\">\n",
       "      <th></th>\n",
       "      <th>day</th>\n",
       "      <th>displays</th>\n",
       "      <th>cost</th>\n",
       "      <th>clicks</th>\n",
       "      <th>revenue</th>\n",
       "      <th>post_click_conversions</th>\n",
       "      <th>post_click_sales_amount</th>\n",
       "    </tr>\n",
       "  </thead>\n",
       "  <tbody>\n",
       "    <tr>\n",
       "      <th>count</th>\n",
       "      <td>15403.000000</td>\n",
       "      <td>15403.000000</td>\n",
       "      <td>15403.000000</td>\n",
       "      <td>15403.000000</td>\n",
       "      <td>15403.000000</td>\n",
       "      <td>15403.000000</td>\n",
       "      <td>15403.000000</td>\n",
       "    </tr>\n",
       "    <tr>\n",
       "      <th>mean</th>\n",
       "      <td>15.518146</td>\n",
       "      <td>15517.383691</td>\n",
       "      <td>11.373902</td>\n",
       "      <td>161.840226</td>\n",
       "      <td>17.935637</td>\n",
       "      <td>42.313965</td>\n",
       "      <td>2123.963529</td>\n",
       "    </tr>\n",
       "    <tr>\n",
       "      <th>std</th>\n",
       "      <td>8.738737</td>\n",
       "      <td>44398.791785</td>\n",
       "      <td>45.376413</td>\n",
       "      <td>728.389447</td>\n",
       "      <td>96.797025</td>\n",
       "      <td>213.719056</td>\n",
       "      <td>10524.670688</td>\n",
       "    </tr>\n",
       "    <tr>\n",
       "      <th>min</th>\n",
       "      <td>1.000000</td>\n",
       "      <td>0.000000</td>\n",
       "      <td>0.000000</td>\n",
       "      <td>0.000000</td>\n",
       "      <td>0.000000</td>\n",
       "      <td>0.000000</td>\n",
       "      <td>0.000000</td>\n",
       "    </tr>\n",
       "    <tr>\n",
       "      <th>25%</th>\n",
       "      <td>8.000000</td>\n",
       "      <td>78.000000</td>\n",
       "      <td>0.024050</td>\n",
       "      <td>0.000000</td>\n",
       "      <td>0.000000</td>\n",
       "      <td>0.000000</td>\n",
       "      <td>0.000000</td>\n",
       "    </tr>\n",
       "    <tr>\n",
       "      <th>50%</th>\n",
       "      <td>15.000000</td>\n",
       "      <td>1182.000000</td>\n",
       "      <td>0.340200</td>\n",
       "      <td>6.000000</td>\n",
       "      <td>0.484200</td>\n",
       "      <td>0.000000</td>\n",
       "      <td>0.000000</td>\n",
       "    </tr>\n",
       "    <tr>\n",
       "      <th>75%</th>\n",
       "      <td>23.000000</td>\n",
       "      <td>8969.500000</td>\n",
       "      <td>2.537150</td>\n",
       "      <td>53.000000</td>\n",
       "      <td>3.841800</td>\n",
       "      <td>3.000000</td>\n",
       "      <td>163.502650</td>\n",
       "    </tr>\n",
       "    <tr>\n",
       "      <th>max</th>\n",
       "      <td>31.000000</td>\n",
       "      <td>455986.000000</td>\n",
       "      <td>556.704800</td>\n",
       "      <td>14566.000000</td>\n",
       "      <td>2096.211600</td>\n",
       "      <td>3369.000000</td>\n",
       "      <td>199930.318000</td>\n",
       "    </tr>\n",
       "  </tbody>\n",
       "</table>\n",
       "</div>"
      ],
      "text/plain": [
       "                day       displays          cost        clicks       revenue  \\\n",
       "count  15403.000000   15403.000000  15403.000000  15403.000000  15403.000000   \n",
       "mean      15.518146   15517.383691     11.373902    161.840226     17.935637   \n",
       "std        8.738737   44398.791785     45.376413    728.389447     96.797025   \n",
       "min        1.000000       0.000000      0.000000      0.000000      0.000000   \n",
       "25%        8.000000      78.000000      0.024050      0.000000      0.000000   \n",
       "50%       15.000000    1182.000000      0.340200      6.000000      0.484200   \n",
       "75%       23.000000    8969.500000      2.537150     53.000000      3.841800   \n",
       "max       31.000000  455986.000000    556.704800  14566.000000   2096.211600   \n",
       "\n",
       "       post_click_conversions  post_click_sales_amount  \n",
       "count            15403.000000             15403.000000  \n",
       "mean                42.313965              2123.963529  \n",
       "std                213.719056             10524.670688  \n",
       "min                  0.000000                 0.000000  \n",
       "25%                  0.000000                 0.000000  \n",
       "50%                  0.000000                 0.000000  \n",
       "75%                  3.000000               163.502650  \n",
       "max               3369.000000            199930.318000  "
      ]
     },
     "execution_count": 99,
     "metadata": {},
     "output_type": "execute_result"
    }
   ],
   "source": [
    "df.describe()"
   ]
  },
  {
   "cell_type": "markdown",
   "metadata": {},
   "source": [
    "**We can change dtypes of some columns to reduce space occupied by the dataframe.**"
   ]
  },
  {
   "cell_type": "code",
   "execution_count": 100,
   "metadata": {},
   "outputs": [
    {
     "data": {
      "text/plain": [
       "month\n",
       "April    6267\n",
       "May      4705\n",
       "June     4431\n",
       "Name: count, dtype: int64"
      ]
     },
     "execution_count": 100,
     "metadata": {},
     "output_type": "execute_result"
    }
   ],
   "source": [
    "df['month'].value_counts()"
   ]
  },
  {
   "cell_type": "code",
   "execution_count": 101,
   "metadata": {},
   "outputs": [
    {
     "data": {
      "text/plain": [
       "campaign_number\n",
       "camp 3    6916\n",
       "camp 1    6873\n",
       "camp 2    1614\n",
       "Name: count, dtype: int64"
      ]
     },
     "execution_count": 101,
     "metadata": {},
     "output_type": "execute_result"
    }
   ],
   "source": [
    "df['campaign_number'].value_counts()"
   ]
  },
  {
   "cell_type": "code",
   "execution_count": 102,
   "metadata": {},
   "outputs": [
    {
     "data": {
      "text/plain": [
       "user_engagement\n",
       "Medium    5489\n",
       "Low       5033\n",
       "High      4881\n",
       "Name: count, dtype: int64"
      ]
     },
     "execution_count": 102,
     "metadata": {},
     "output_type": "execute_result"
    }
   ],
   "source": [
    "df['user_engagement'].value_counts()"
   ]
  },
  {
   "cell_type": "code",
   "execution_count": 103,
   "metadata": {},
   "outputs": [
    {
     "data": {
      "text/plain": [
       "banner\n",
       "728 x 90     3142\n",
       "300 x 250    2820\n",
       "240 x 400    2424\n",
       "670 x 90     2352\n",
       "468 x 60     1899\n",
       "160 x 600    1803\n",
       "580 x 400     606\n",
       "800 x 250     357\n",
       "Name: count, dtype: int64"
      ]
     },
     "execution_count": 103,
     "metadata": {},
     "output_type": "execute_result"
    }
   ],
   "source": [
    "df['banner'].value_counts()"
   ]
  },
  {
   "cell_type": "code",
   "execution_count": 104,
   "metadata": {},
   "outputs": [
    {
     "data": {
      "text/plain": [
       "updated_placement\n",
       "mno                  4499\n",
       "def                  3537\n",
       "ghi                  3482\n",
       "jkl                  2504\n",
       "abc                   968\n",
       "No Data Available     413\n",
       "Name: count, dtype: int64"
      ]
     },
     "execution_count": 104,
     "metadata": {},
     "output_type": "execute_result"
    }
   ],
   "source": [
    "df['updated_placement'].value_counts()"
   ]
  },
  {
   "cell_type": "code",
   "execution_count": 105,
   "metadata": {},
   "outputs": [
    {
     "data": {
      "text/plain": [
       "day\n",
       "8     526\n",
       "10    526\n",
       "11    525\n",
       "12    523\n",
       "7     521\n",
       "13    519\n",
       "5     519\n",
       "4     517\n",
       "2     516\n",
       "6     515\n",
       "14    515\n",
       "3     514\n",
       "9     512\n",
       "15    510\n",
       "1     509\n",
       "20    506\n",
       "26    504\n",
       "28    504\n",
       "18    503\n",
       "23    500\n",
       "24    500\n",
       "17    498\n",
       "21    498\n",
       "27    498\n",
       "25    498\n",
       "16    497\n",
       "19    497\n",
       "29    495\n",
       "22    493\n",
       "30    492\n",
       "31    153\n",
       "Name: count, dtype: int64"
      ]
     },
     "execution_count": 105,
     "metadata": {},
     "output_type": "execute_result"
    }
   ],
   "source": [
    "df['day'].value_counts()"
   ]
  },
  {
   "cell_type": "code",
   "execution_count": 106,
   "metadata": {},
   "outputs": [
    {
     "data": {
      "text/plain": [
       "455986"
      ]
     },
     "execution_count": 106,
     "metadata": {},
     "output_type": "execute_result"
    }
   ],
   "source": [
    "df['displays'].max()"
   ]
  },
  {
   "cell_type": "code",
   "execution_count": 107,
   "metadata": {},
   "outputs": [
    {
     "data": {
      "text/plain": [
       "14566"
      ]
     },
     "execution_count": 107,
     "metadata": {},
     "output_type": "execute_result"
    }
   ],
   "source": [
    "df['clicks'].max()"
   ]
  },
  {
   "cell_type": "code",
   "execution_count": 108,
   "metadata": {},
   "outputs": [
    {
     "data": {
      "text/plain": [
       "3369"
      ]
     },
     "execution_count": 108,
     "metadata": {},
     "output_type": "execute_result"
    }
   ],
   "source": [
    "df['post_click_conversions'].max()"
   ]
  },
  {
   "cell_type": "code",
   "execution_count": 109,
   "metadata": {},
   "outputs": [
    {
     "data": {
      "text/plain": [
       "556.7048"
      ]
     },
     "execution_count": 109,
     "metadata": {},
     "output_type": "execute_result"
    }
   ],
   "source": [
    "df['cost'].max()"
   ]
  },
  {
   "cell_type": "code",
   "execution_count": 110,
   "metadata": {},
   "outputs": [
    {
     "data": {
      "text/plain": [
       "2096.2116"
      ]
     },
     "execution_count": 110,
     "metadata": {},
     "output_type": "execute_result"
    }
   ],
   "source": [
    "df['revenue'].max()"
   ]
  },
  {
   "cell_type": "code",
   "execution_count": 111,
   "metadata": {},
   "outputs": [
    {
     "data": {
      "text/plain": [
       "199930.318"
      ]
     },
     "execution_count": 111,
     "metadata": {},
     "output_type": "execute_result"
    }
   ],
   "source": [
    "df['post_click_sales_amount'].max()"
   ]
  },
  {
   "cell_type": "code",
   "execution_count": 112,
   "metadata": {},
   "outputs": [],
   "source": [
    "df['month'] = df['month'].astype('category')\n",
    "df['campaign_number'] = df['campaign_number'].astype('category')\n",
    "df['user_engagement'] = df['user_engagement'].astype('category')\n",
    "df['placement'] = df['placement'].astype('category')\n",
    "df['updated_placement'] = df['updated_placement'].astype('category')\n",
    "df['day'] = df['day'].astype('int16')\n",
    "df['clicks'] = df['clicks'].astype('int16')\n",
    "df['post_click_conversions'] = df['post_click_conversions'].astype('int16')\n",
    "df['displays'] = df['displays'].astype('int32')\n",
    "df['cost'] = df['cost'].astype('float16')\n",
    "df['revenue'] = df['revenue'].astype('float16')\n",
    "df['post_click_sales_amount'] = df['post_click_sales_amount'].astype('float32')"
   ]
  },
  {
   "cell_type": "code",
   "execution_count": 113,
   "metadata": {},
   "outputs": [
    {
     "name": "stdout",
     "output_type": "stream",
     "text": [
      "<class 'pandas.core.frame.DataFrame'>\n",
      "Index: 15403 entries, 0 to 15402\n",
      "Data columns (total 13 columns):\n",
      " #   Column                   Non-Null Count  Dtype   \n",
      "---  ------                   --------------  -----   \n",
      " 0   month                    15403 non-null  category\n",
      " 1   day                      15403 non-null  int16   \n",
      " 2   campaign_number          15403 non-null  category\n",
      " 3   user_engagement          15403 non-null  category\n",
      " 4   banner                   15403 non-null  object  \n",
      " 5   placement                14990 non-null  category\n",
      " 6   displays                 15403 non-null  int32   \n",
      " 7   cost                     15403 non-null  float16 \n",
      " 8   clicks                   15403 non-null  int16   \n",
      " 9   revenue                  15403 non-null  float16 \n",
      " 10  post_click_conversions   15403 non-null  int16   \n",
      " 11  post_click_sales_amount  15403 non-null  float32 \n",
      " 12  updated_placement        15403 non-null  category\n",
      "dtypes: category(5), float16(2), float32(1), int16(3), int32(1), object(1)\n",
      "memory usage: 587.4+ KB\n"
     ]
    }
   ],
   "source": [
    "df.info()"
   ]
  },
  {
   "cell_type": "markdown",
   "metadata": {},
   "source": [
    "**We have brought down memory usage from 1.5+ MB to 587.4+ KB.**"
   ]
  },
  {
   "cell_type": "markdown",
   "metadata": {},
   "source": [
    "**We need to break down banner into banner_width and banner_height.**"
   ]
  },
  {
   "cell_type": "code",
   "execution_count": 114,
   "metadata": {},
   "outputs": [],
   "source": [
    "df['banner'] = df['banner'].str.split(' x ').str[0].str.strip()"
   ]
  },
  {
   "cell_type": "code",
   "execution_count": 115,
   "metadata": {},
   "outputs": [],
   "source": [
    "df['banner_width'] = df['banner']"
   ]
  },
  {
   "cell_type": "code",
   "execution_count": 116,
   "metadata": {},
   "outputs": [],
   "source": [
    "df['banner'] = df_copy['banner']"
   ]
  },
  {
   "cell_type": "code",
   "execution_count": 117,
   "metadata": {},
   "outputs": [],
   "source": [
    "df['banner_height'] = df['banner'].str.split(' x ').str[1].str.strip()"
   ]
  },
  {
   "cell_type": "code",
   "execution_count": 118,
   "metadata": {},
   "outputs": [
    {
     "data": {
      "text/html": [
       "<div>\n",
       "<style scoped>\n",
       "    .dataframe tbody tr th:only-of-type {\n",
       "        vertical-align: middle;\n",
       "    }\n",
       "\n",
       "    .dataframe tbody tr th {\n",
       "        vertical-align: top;\n",
       "    }\n",
       "\n",
       "    .dataframe thead th {\n",
       "        text-align: right;\n",
       "    }\n",
       "</style>\n",
       "<table border=\"1\" class=\"dataframe\">\n",
       "  <thead>\n",
       "    <tr style=\"text-align: right;\">\n",
       "      <th></th>\n",
       "      <th>month</th>\n",
       "      <th>day</th>\n",
       "      <th>campaign_number</th>\n",
       "      <th>user_engagement</th>\n",
       "      <th>banner</th>\n",
       "      <th>placement</th>\n",
       "      <th>displays</th>\n",
       "      <th>cost</th>\n",
       "      <th>clicks</th>\n",
       "      <th>revenue</th>\n",
       "      <th>post_click_conversions</th>\n",
       "      <th>post_click_sales_amount</th>\n",
       "      <th>updated_placement</th>\n",
       "      <th>banner_width</th>\n",
       "      <th>banner_height</th>\n",
       "    </tr>\n",
       "  </thead>\n",
       "  <tbody>\n",
       "    <tr>\n",
       "      <th>0</th>\n",
       "      <td>April</td>\n",
       "      <td>1</td>\n",
       "      <td>camp 1</td>\n",
       "      <td>High</td>\n",
       "      <td>160 x 600</td>\n",
       "      <td>abc</td>\n",
       "      <td>4</td>\n",
       "      <td>0.006001</td>\n",
       "      <td>0</td>\n",
       "      <td>0.000000</td>\n",
       "      <td>0</td>\n",
       "      <td>0.000000</td>\n",
       "      <td>abc</td>\n",
       "      <td>160</td>\n",
       "      <td>600</td>\n",
       "    </tr>\n",
       "    <tr>\n",
       "      <th>1</th>\n",
       "      <td>April</td>\n",
       "      <td>1</td>\n",
       "      <td>camp 1</td>\n",
       "      <td>High</td>\n",
       "      <td>160 x 600</td>\n",
       "      <td>def</td>\n",
       "      <td>20170</td>\n",
       "      <td>26.781250</td>\n",
       "      <td>158</td>\n",
       "      <td>28.968750</td>\n",
       "      <td>23</td>\n",
       "      <td>1972.460205</td>\n",
       "      <td>def</td>\n",
       "      <td>160</td>\n",
       "      <td>600</td>\n",
       "    </tr>\n",
       "    <tr>\n",
       "      <th>2</th>\n",
       "      <td>April</td>\n",
       "      <td>1</td>\n",
       "      <td>camp 1</td>\n",
       "      <td>High</td>\n",
       "      <td>160 x 600</td>\n",
       "      <td>ghi</td>\n",
       "      <td>14701</td>\n",
       "      <td>27.625000</td>\n",
       "      <td>158</td>\n",
       "      <td>28.984375</td>\n",
       "      <td>78</td>\n",
       "      <td>2497.263672</td>\n",
       "      <td>ghi</td>\n",
       "      <td>160</td>\n",
       "      <td>600</td>\n",
       "    </tr>\n",
       "    <tr>\n",
       "      <th>3</th>\n",
       "      <td>April</td>\n",
       "      <td>1</td>\n",
       "      <td>camp 1</td>\n",
       "      <td>High</td>\n",
       "      <td>160 x 600</td>\n",
       "      <td>mno</td>\n",
       "      <td>171259</td>\n",
       "      <td>216.875000</td>\n",
       "      <td>1796</td>\n",
       "      <td>329.500000</td>\n",
       "      <td>617</td>\n",
       "      <td>24625.324219</td>\n",
       "      <td>mno</td>\n",
       "      <td>160</td>\n",
       "      <td>600</td>\n",
       "    </tr>\n",
       "    <tr>\n",
       "      <th>4</th>\n",
       "      <td>April</td>\n",
       "      <td>1</td>\n",
       "      <td>camp 1</td>\n",
       "      <td>Low</td>\n",
       "      <td>160 x 600</td>\n",
       "      <td>def</td>\n",
       "      <td>552</td>\n",
       "      <td>0.067017</td>\n",
       "      <td>1</td>\n",
       "      <td>0.183350</td>\n",
       "      <td>0</td>\n",
       "      <td>0.000000</td>\n",
       "      <td>def</td>\n",
       "      <td>160</td>\n",
       "      <td>600</td>\n",
       "    </tr>\n",
       "  </tbody>\n",
       "</table>\n",
       "</div>"
      ],
      "text/plain": [
       "   month  day campaign_number user_engagement     banner placement  displays  \\\n",
       "0  April    1          camp 1            High  160 x 600       abc         4   \n",
       "1  April    1          camp 1            High  160 x 600       def     20170   \n",
       "2  April    1          camp 1            High  160 x 600       ghi     14701   \n",
       "3  April    1          camp 1            High  160 x 600       mno    171259   \n",
       "4  April    1          camp 1             Low  160 x 600       def       552   \n",
       "\n",
       "         cost  clicks     revenue  post_click_conversions  \\\n",
       "0    0.006001       0    0.000000                       0   \n",
       "1   26.781250     158   28.968750                      23   \n",
       "2   27.625000     158   28.984375                      78   \n",
       "3  216.875000    1796  329.500000                     617   \n",
       "4    0.067017       1    0.183350                       0   \n",
       "\n",
       "   post_click_sales_amount updated_placement banner_width banner_height  \n",
       "0                 0.000000               abc          160           600  \n",
       "1              1972.460205               def          160           600  \n",
       "2              2497.263672               ghi          160           600  \n",
       "3             24625.324219               mno          160           600  \n",
       "4                 0.000000               def          160           600  "
      ]
     },
     "execution_count": 118,
     "metadata": {},
     "output_type": "execute_result"
    }
   ],
   "source": [
    "df.head()"
   ]
  },
  {
   "cell_type": "code",
   "execution_count": 119,
   "metadata": {},
   "outputs": [
    {
     "data": {
      "text/plain": [
       "'800'"
      ]
     },
     "execution_count": 119,
     "metadata": {},
     "output_type": "execute_result"
    }
   ],
   "source": [
    "df['banner_width'].max()"
   ]
  },
  {
   "cell_type": "code",
   "execution_count": 120,
   "metadata": {},
   "outputs": [
    {
     "data": {
      "text/plain": [
       "'90'"
      ]
     },
     "execution_count": 120,
     "metadata": {},
     "output_type": "execute_result"
    }
   ],
   "source": [
    "df['banner_height'].max()"
   ]
  },
  {
   "cell_type": "code",
   "execution_count": 121,
   "metadata": {},
   "outputs": [],
   "source": [
    "df['banner_width'] = df['banner_width'].astype('int64')\n",
    "df['banner_height'] = df['banner_height'].astype('int64')"
   ]
  },
  {
   "cell_type": "code",
   "execution_count": 122,
   "metadata": {},
   "outputs": [
    {
     "name": "stdout",
     "output_type": "stream",
     "text": [
      "<class 'pandas.core.frame.DataFrame'>\n",
      "Index: 15403 entries, 0 to 15402\n",
      "Data columns (total 15 columns):\n",
      " #   Column                   Non-Null Count  Dtype   \n",
      "---  ------                   --------------  -----   \n",
      " 0   month                    15403 non-null  category\n",
      " 1   day                      15403 non-null  int16   \n",
      " 2   campaign_number          15403 non-null  category\n",
      " 3   user_engagement          15403 non-null  category\n",
      " 4   banner                   15403 non-null  object  \n",
      " 5   placement                14990 non-null  category\n",
      " 6   displays                 15403 non-null  int32   \n",
      " 7   cost                     15403 non-null  float16 \n",
      " 8   clicks                   15403 non-null  int16   \n",
      " 9   revenue                  15403 non-null  float16 \n",
      " 10  post_click_conversions   15403 non-null  int16   \n",
      " 11  post_click_sales_amount  15403 non-null  float32 \n",
      " 12  updated_placement        15403 non-null  category\n",
      " 13  banner_width             15403 non-null  int64   \n",
      " 14  banner_height            15403 non-null  int64   \n",
      "dtypes: category(5), float16(2), float32(1), int16(3), int32(1), int64(2), object(1)\n",
      "memory usage: 828.1+ KB\n"
     ]
    }
   ],
   "source": [
    "df.info()"
   ]
  },
  {
   "cell_type": "code",
   "execution_count": 123,
   "metadata": {},
   "outputs": [],
   "source": [
    "df['banner_area'] = df['banner_width'] * df['banner_height']"
   ]
  },
  {
   "cell_type": "code",
   "execution_count": 124,
   "metadata": {},
   "outputs": [
    {
     "data": {
      "text/html": [
       "<div>\n",
       "<style scoped>\n",
       "    .dataframe tbody tr th:only-of-type {\n",
       "        vertical-align: middle;\n",
       "    }\n",
       "\n",
       "    .dataframe tbody tr th {\n",
       "        vertical-align: top;\n",
       "    }\n",
       "\n",
       "    .dataframe thead th {\n",
       "        text-align: right;\n",
       "    }\n",
       "</style>\n",
       "<table border=\"1\" class=\"dataframe\">\n",
       "  <thead>\n",
       "    <tr style=\"text-align: right;\">\n",
       "      <th></th>\n",
       "      <th>month</th>\n",
       "      <th>day</th>\n",
       "      <th>campaign_number</th>\n",
       "      <th>user_engagement</th>\n",
       "      <th>banner</th>\n",
       "      <th>placement</th>\n",
       "      <th>displays</th>\n",
       "      <th>cost</th>\n",
       "      <th>clicks</th>\n",
       "      <th>revenue</th>\n",
       "      <th>post_click_conversions</th>\n",
       "      <th>post_click_sales_amount</th>\n",
       "      <th>updated_placement</th>\n",
       "      <th>banner_width</th>\n",
       "      <th>banner_height</th>\n",
       "      <th>banner_area</th>\n",
       "    </tr>\n",
       "  </thead>\n",
       "  <tbody>\n",
       "    <tr>\n",
       "      <th>0</th>\n",
       "      <td>April</td>\n",
       "      <td>1</td>\n",
       "      <td>camp 1</td>\n",
       "      <td>High</td>\n",
       "      <td>160 x 600</td>\n",
       "      <td>abc</td>\n",
       "      <td>4</td>\n",
       "      <td>0.006001</td>\n",
       "      <td>0</td>\n",
       "      <td>0.000000</td>\n",
       "      <td>0</td>\n",
       "      <td>0.000000</td>\n",
       "      <td>abc</td>\n",
       "      <td>160</td>\n",
       "      <td>600</td>\n",
       "      <td>96000</td>\n",
       "    </tr>\n",
       "    <tr>\n",
       "      <th>1</th>\n",
       "      <td>April</td>\n",
       "      <td>1</td>\n",
       "      <td>camp 1</td>\n",
       "      <td>High</td>\n",
       "      <td>160 x 600</td>\n",
       "      <td>def</td>\n",
       "      <td>20170</td>\n",
       "      <td>26.781250</td>\n",
       "      <td>158</td>\n",
       "      <td>28.968750</td>\n",
       "      <td>23</td>\n",
       "      <td>1972.460205</td>\n",
       "      <td>def</td>\n",
       "      <td>160</td>\n",
       "      <td>600</td>\n",
       "      <td>96000</td>\n",
       "    </tr>\n",
       "    <tr>\n",
       "      <th>2</th>\n",
       "      <td>April</td>\n",
       "      <td>1</td>\n",
       "      <td>camp 1</td>\n",
       "      <td>High</td>\n",
       "      <td>160 x 600</td>\n",
       "      <td>ghi</td>\n",
       "      <td>14701</td>\n",
       "      <td>27.625000</td>\n",
       "      <td>158</td>\n",
       "      <td>28.984375</td>\n",
       "      <td>78</td>\n",
       "      <td>2497.263672</td>\n",
       "      <td>ghi</td>\n",
       "      <td>160</td>\n",
       "      <td>600</td>\n",
       "      <td>96000</td>\n",
       "    </tr>\n",
       "    <tr>\n",
       "      <th>3</th>\n",
       "      <td>April</td>\n",
       "      <td>1</td>\n",
       "      <td>camp 1</td>\n",
       "      <td>High</td>\n",
       "      <td>160 x 600</td>\n",
       "      <td>mno</td>\n",
       "      <td>171259</td>\n",
       "      <td>216.875000</td>\n",
       "      <td>1796</td>\n",
       "      <td>329.500000</td>\n",
       "      <td>617</td>\n",
       "      <td>24625.324219</td>\n",
       "      <td>mno</td>\n",
       "      <td>160</td>\n",
       "      <td>600</td>\n",
       "      <td>96000</td>\n",
       "    </tr>\n",
       "    <tr>\n",
       "      <th>4</th>\n",
       "      <td>April</td>\n",
       "      <td>1</td>\n",
       "      <td>camp 1</td>\n",
       "      <td>Low</td>\n",
       "      <td>160 x 600</td>\n",
       "      <td>def</td>\n",
       "      <td>552</td>\n",
       "      <td>0.067017</td>\n",
       "      <td>1</td>\n",
       "      <td>0.183350</td>\n",
       "      <td>0</td>\n",
       "      <td>0.000000</td>\n",
       "      <td>def</td>\n",
       "      <td>160</td>\n",
       "      <td>600</td>\n",
       "      <td>96000</td>\n",
       "    </tr>\n",
       "  </tbody>\n",
       "</table>\n",
       "</div>"
      ],
      "text/plain": [
       "   month  day campaign_number user_engagement     banner placement  displays  \\\n",
       "0  April    1          camp 1            High  160 x 600       abc         4   \n",
       "1  April    1          camp 1            High  160 x 600       def     20170   \n",
       "2  April    1          camp 1            High  160 x 600       ghi     14701   \n",
       "3  April    1          camp 1            High  160 x 600       mno    171259   \n",
       "4  April    1          camp 1             Low  160 x 600       def       552   \n",
       "\n",
       "         cost  clicks     revenue  post_click_conversions  \\\n",
       "0    0.006001       0    0.000000                       0   \n",
       "1   26.781250     158   28.968750                      23   \n",
       "2   27.625000     158   28.984375                      78   \n",
       "3  216.875000    1796  329.500000                     617   \n",
       "4    0.067017       1    0.183350                       0   \n",
       "\n",
       "   post_click_sales_amount updated_placement  banner_width  banner_height  \\\n",
       "0                 0.000000               abc           160            600   \n",
       "1              1972.460205               def           160            600   \n",
       "2              2497.263672               ghi           160            600   \n",
       "3             24625.324219               mno           160            600   \n",
       "4                 0.000000               def           160            600   \n",
       "\n",
       "   banner_area  \n",
       "0        96000  \n",
       "1        96000  \n",
       "2        96000  \n",
       "3        96000  \n",
       "4        96000  "
      ]
     },
     "execution_count": 124,
     "metadata": {},
     "output_type": "execute_result"
    }
   ],
   "source": [
    "df.head()"
   ]
  },
  {
   "cell_type": "code",
   "execution_count": 125,
   "metadata": {},
   "outputs": [
    {
     "name": "stdout",
     "output_type": "stream",
     "text": [
      "<class 'pandas.core.frame.DataFrame'>\n",
      "Index: 15403 entries, 0 to 15402\n",
      "Data columns (total 16 columns):\n",
      " #   Column                   Non-Null Count  Dtype   \n",
      "---  ------                   --------------  -----   \n",
      " 0   month                    15403 non-null  category\n",
      " 1   day                      15403 non-null  int16   \n",
      " 2   campaign_number          15403 non-null  category\n",
      " 3   user_engagement          15403 non-null  category\n",
      " 4   banner                   15403 non-null  object  \n",
      " 5   placement                14990 non-null  category\n",
      " 6   displays                 15403 non-null  int32   \n",
      " 7   cost                     15403 non-null  float16 \n",
      " 8   clicks                   15403 non-null  int16   \n",
      " 9   revenue                  15403 non-null  float16 \n",
      " 10  post_click_conversions   15403 non-null  int16   \n",
      " 11  post_click_sales_amount  15403 non-null  float32 \n",
      " 12  updated_placement        15403 non-null  category\n",
      " 13  banner_width             15403 non-null  int64   \n",
      " 14  banner_height            15403 non-null  int64   \n",
      " 15  banner_area              15403 non-null  int64   \n",
      "dtypes: category(5), float16(2), float32(1), int16(3), int32(1), int64(3), object(1)\n",
      "memory usage: 948.5+ KB\n"
     ]
    }
   ],
   "source": [
    "df.info()"
   ]
  },
  {
   "cell_type": "code",
   "execution_count": 126,
   "metadata": {},
   "outputs": [],
   "source": [
    "final_copy = df.copy()"
   ]
  },
  {
   "cell_type": "code",
   "execution_count": 127,
   "metadata": {},
   "outputs": [],
   "source": [
    "df.drop(columns=['banner','placement'],inplace=True)"
   ]
  },
  {
   "cell_type": "code",
   "execution_count": 128,
   "metadata": {},
   "outputs": [
    {
     "name": "stdout",
     "output_type": "stream",
     "text": [
      "<class 'pandas.core.frame.DataFrame'>\n",
      "Index: 15403 entries, 0 to 15402\n",
      "Data columns (total 14 columns):\n",
      " #   Column                   Non-Null Count  Dtype   \n",
      "---  ------                   --------------  -----   \n",
      " 0   month                    15403 non-null  category\n",
      " 1   day                      15403 non-null  int16   \n",
      " 2   campaign_number          15403 non-null  category\n",
      " 3   user_engagement          15403 non-null  category\n",
      " 4   displays                 15403 non-null  int32   \n",
      " 5   cost                     15403 non-null  float16 \n",
      " 6   clicks                   15403 non-null  int16   \n",
      " 7   revenue                  15403 non-null  float16 \n",
      " 8   post_click_conversions   15403 non-null  int16   \n",
      " 9   post_click_sales_amount  15403 non-null  float32 \n",
      " 10  updated_placement        15403 non-null  category\n",
      " 11  banner_width             15403 non-null  int64   \n",
      " 12  banner_height            15403 non-null  int64   \n",
      " 13  banner_area              15403 non-null  int64   \n",
      "dtypes: category(4), float16(2), float32(1), int16(3), int32(1), int64(3)\n",
      "memory usage: 812.9 KB\n"
     ]
    }
   ],
   "source": [
    "df.info()"
   ]
  },
  {
   "cell_type": "code",
   "execution_count": 129,
   "metadata": {},
   "outputs": [],
   "source": [
    "export_df = df.copy()"
   ]
  },
  {
   "cell_type": "code",
   "execution_count": 130,
   "metadata": {},
   "outputs": [],
   "source": [
    "df.to_csv('../dataframes/final_df.csv')"
   ]
  },
  {
   "cell_type": "code",
   "execution_count": 131,
   "metadata": {},
   "outputs": [],
   "source": [
    "df.to_csv('../dataframes/final_copy_with_initials.csv')"
   ]
  },
  {
   "cell_type": "code",
   "execution_count": 132,
   "metadata": {},
   "outputs": [],
   "source": [
    "df.to_csv('../dataframes/digital_marketing_after_access_cleaning.csv',index=False)"
   ]
  },
  {
   "cell_type": "code",
   "execution_count": 133,
   "metadata": {},
   "outputs": [
    {
     "name": "stdout",
     "output_type": "stream",
     "text": [
      "<class 'pandas.core.frame.DataFrame'>\n",
      "Index: 15403 entries, 0 to 15402\n",
      "Data columns (total 14 columns):\n",
      " #   Column                   Non-Null Count  Dtype   \n",
      "---  ------                   --------------  -----   \n",
      " 0   month                    15403 non-null  category\n",
      " 1   day                      15403 non-null  int16   \n",
      " 2   campaign_number          15403 non-null  category\n",
      " 3   user_engagement          15403 non-null  category\n",
      " 4   displays                 15403 non-null  int32   \n",
      " 5   cost                     15403 non-null  float16 \n",
      " 6   clicks                   15403 non-null  int16   \n",
      " 7   revenue                  15403 non-null  float16 \n",
      " 8   post_click_conversions   15403 non-null  int16   \n",
      " 9   post_click_sales_amount  15403 non-null  float32 \n",
      " 10  updated_placement        15403 non-null  category\n",
      " 11  banner_width             15403 non-null  int64   \n",
      " 12  banner_height            15403 non-null  int64   \n",
      " 13  banner_area              15403 non-null  int64   \n",
      "dtypes: category(4), float16(2), float32(1), int16(3), int32(1), int64(3)\n",
      "memory usage: 812.9 KB\n"
     ]
    }
   ],
   "source": [
    "df.info()"
   ]
  },
  {
   "cell_type": "code",
   "execution_count": 136,
   "metadata": {},
   "outputs": [],
   "source": [
    "df.to_csv('../dataframes/marketing_final.csv',index=False)"
   ]
  },
  {
   "cell_type": "markdown",
   "metadata": {},
   "source": [
    "**Final Dataframe is ready after data accessing and data cleaning phase.Time for Exploratory Data Analysis(EDA).**"
   ]
  },
  {
   "cell_type": "code",
   "execution_count": 139,
   "metadata": {},
   "outputs": [
    {
     "ename": "TypeError",
     "evalue": "NDFrame.to_csv() got an unexpected keyword argument 'dtypes'",
     "output_type": "error",
     "traceback": [
      "\u001b[0;31m---------------------------------------------------------------------------\u001b[0m",
      "\u001b[0;31mTypeError\u001b[0m                                 Traceback (most recent call last)",
      "Cell \u001b[0;32mIn[139], line 1\u001b[0m\n\u001b[0;32m----> 1\u001b[0m df\u001b[39m.\u001b[39;49mto_csv(\u001b[39m'\u001b[39;49m\u001b[39m../dataframes/marketing_digital_after_accessing_cleaning_with_specific_dtypes\u001b[39;49m\u001b[39m'\u001b[39;49m,index\u001b[39m=\u001b[39;49m\u001b[39mFalse\u001b[39;49;00m,dtypes \u001b[39m=\u001b[39;49m {\n\u001b[1;32m      2\u001b[0m               \u001b[39m'\u001b[39;49m\u001b[39mmonth\u001b[39;49m\u001b[39m'\u001b[39;49m : \u001b[39m'\u001b[39;49m\u001b[39mcategory\u001b[39;49m\u001b[39m'\u001b[39;49m,\n\u001b[1;32m      3\u001b[0m               \u001b[39m'\u001b[39;49m\u001b[39mday\u001b[39;49m\u001b[39m'\u001b[39;49m : \u001b[39m'\u001b[39;49m\u001b[39mint16\u001b[39;49m\u001b[39m'\u001b[39;49m,\n\u001b[1;32m      4\u001b[0m               \u001b[39m'\u001b[39;49m\u001b[39mcampaign_number\u001b[39;49m\u001b[39m'\u001b[39;49m : \u001b[39m'\u001b[39;49m\u001b[39mcategory\u001b[39;49m\u001b[39m'\u001b[39;49m,\n\u001b[1;32m      5\u001b[0m               \u001b[39m'\u001b[39;49m\u001b[39muser_engagement\u001b[39;49m\u001b[39m'\u001b[39;49m : \u001b[39m'\u001b[39;49m\u001b[39mcategory\u001b[39;49m\u001b[39m'\u001b[39;49m,\n\u001b[1;32m      6\u001b[0m               \u001b[39m'\u001b[39;49m\u001b[39mdisplays\u001b[39;49m\u001b[39m'\u001b[39;49m : \u001b[39m'\u001b[39;49m\u001b[39mint32\u001b[39;49m\u001b[39m'\u001b[39;49m,\n\u001b[1;32m      7\u001b[0m               \u001b[39m'\u001b[39;49m\u001b[39mcost\u001b[39;49m\u001b[39m'\u001b[39;49m : \u001b[39m'\u001b[39;49m\u001b[39mfloat16\u001b[39;49m\u001b[39m'\u001b[39;49m,\n\u001b[1;32m      8\u001b[0m               \u001b[39m'\u001b[39;49m\u001b[39mclicks\u001b[39;49m\u001b[39m'\u001b[39;49m : \u001b[39m'\u001b[39;49m\u001b[39mint16\u001b[39;49m\u001b[39m'\u001b[39;49m,\n\u001b[1;32m      9\u001b[0m               \u001b[39m'\u001b[39;49m\u001b[39mrevenue\u001b[39;49m\u001b[39m'\u001b[39;49m : \u001b[39m'\u001b[39;49m\u001b[39mfloat16\u001b[39;49m\u001b[39m'\u001b[39;49m,\n\u001b[1;32m     10\u001b[0m               \u001b[39m'\u001b[39;49m\u001b[39mpost_click_conversions\u001b[39;49m\u001b[39m'\u001b[39;49m : \u001b[39m'\u001b[39;49m\u001b[39mint16\u001b[39;49m\u001b[39m'\u001b[39;49m,\n\u001b[1;32m     11\u001b[0m               \u001b[39m'\u001b[39;49m\u001b[39mpost_click_sales_amount\u001b[39;49m\u001b[39m'\u001b[39;49m : \u001b[39m'\u001b[39;49m\u001b[39mfloat32\u001b[39;49m\u001b[39m'\u001b[39;49m,\n\u001b[1;32m     12\u001b[0m               \u001b[39m'\u001b[39;49m\u001b[39mupdated_placement\u001b[39;49m\u001b[39m'\u001b[39;49m : \u001b[39m'\u001b[39;49m\u001b[39mcategory\u001b[39;49m\u001b[39m'\u001b[39;49m,\n\u001b[1;32m     13\u001b[0m               \u001b[39m'\u001b[39;49m\u001b[39mbanner_width\u001b[39;49m\u001b[39m'\u001b[39;49m : \u001b[39m'\u001b[39;49m\u001b[39mint64\u001b[39;49m\u001b[39m'\u001b[39;49m,\n\u001b[1;32m     14\u001b[0m               \u001b[39m'\u001b[39;49m\u001b[39mbanner_height\u001b[39;49m\u001b[39m'\u001b[39;49m : \u001b[39m'\u001b[39;49m\u001b[39mint64\u001b[39;49m\u001b[39m'\u001b[39;49m,\n\u001b[1;32m     15\u001b[0m               \u001b[39m'\u001b[39;49m\u001b[39mbanner_area\u001b[39;49m\u001b[39m'\u001b[39;49m : \u001b[39m'\u001b[39;49m\u001b[39mint64\u001b[39;49m\u001b[39m'\u001b[39;49m\n\u001b[1;32m     16\u001b[0m           })\n",
      "\u001b[0;31mTypeError\u001b[0m: NDFrame.to_csv() got an unexpected keyword argument 'dtypes'"
     ]
    }
   ],
   "source": [
    "df.to_csv('../dataframes/marketing_digital_after_accessing_cleaning_with_specific_dtypes',index=False,dtypes = {\n",
    "              'month' : 'category',\n",
    "              'day' : 'int16',\n",
    "              'campaign_number' : 'category',\n",
    "              'user_engagement' : 'category',\n",
    "              'displays' : 'int32',\n",
    "              'cost' : 'float16',\n",
    "              'clicks' : 'int16',\n",
    "              'revenue' : 'float16',\n",
    "              'post_click_conversions' : 'int16',\n",
    "              'post_click_sales_amount' : 'float32',\n",
    "              'updated_placement' : 'category',\n",
    "              'banner_width' : 'int64',\n",
    "              'banner_height' : 'int64',\n",
    "              'banner_area' : 'int64'\n",
    "          })"
   ]
  },
  {
   "cell_type": "code",
   "execution_count": 140,
   "metadata": {},
   "outputs": [],
   "source": [
    "df = df.astype({\n",
    "    'month': 'category',\n",
    "    'day': 'int16',\n",
    "    'campaign_number': 'category',\n",
    "    'user_engagement': 'category',\n",
    "    'displays': 'int32',\n",
    "    'cost': 'float16',\n",
    "    'clicks': 'int16',\n",
    "    'revenue': 'float16',\n",
    "    'post_click_conversions': 'int16',\n",
    "    'post_click_sales_amount': 'float32',\n",
    "    'updated_placement': 'category',\n",
    "    'banner_width': 'int64',\n",
    "    'banner_height': 'int64',\n",
    "    'banner_area': 'int64'\n",
    "})"
   ]
  },
  {
   "cell_type": "code",
   "execution_count": 141,
   "metadata": {},
   "outputs": [],
   "source": [
    "df.to_csv('../dataframes/marketing_digital_after_accessing_cleaning_with_specific_dtypes.csv', index=False)"
   ]
  },
  {
   "cell_type": "code",
   "execution_count": 144,
   "metadata": {},
   "outputs": [
    {
     "name": "stdout",
     "output_type": "stream",
     "text": [
      "<class 'pandas.core.frame.DataFrame'>\n",
      "Index: 15403 entries, 0 to 15402\n",
      "Data columns (total 14 columns):\n",
      " #   Column                   Non-Null Count  Dtype   \n",
      "---  ------                   --------------  -----   \n",
      " 0   month                    15403 non-null  category\n",
      " 1   day                      15403 non-null  int16   \n",
      " 2   campaign_number          15403 non-null  category\n",
      " 3   user_engagement          15403 non-null  category\n",
      " 4   displays                 15403 non-null  int32   \n",
      " 5   cost                     15403 non-null  float16 \n",
      " 6   clicks                   15403 non-null  int16   \n",
      " 7   revenue                  15403 non-null  float16 \n",
      " 8   post_click_conversions   15403 non-null  int16   \n",
      " 9   post_click_sales_amount  15403 non-null  float32 \n",
      " 10  updated_placement        15403 non-null  category\n",
      " 11  banner_width             15403 non-null  int64   \n",
      " 12  banner_height            15403 non-null  int64   \n",
      " 13  banner_area              15403 non-null  int64   \n",
      "dtypes: category(4), float16(2), float32(1), int16(3), int32(1), int64(3)\n",
      "memory usage: 812.9 KB\n"
     ]
    }
   ],
   "source": [
    "df.info()"
   ]
  },
  {
   "cell_type": "code",
   "execution_count": null,
   "metadata": {},
   "outputs": [],
   "source": []
  }
 ],
 "metadata": {
  "kernelspec": {
   "display_name": "Python 3",
   "language": "python",
   "name": "python3"
  },
  "language_info": {
   "codemirror_mode": {
    "name": "ipython",
    "version": 3
   },
   "file_extension": ".py",
   "mimetype": "text/x-python",
   "name": "python",
   "nbconvert_exporter": "python",
   "pygments_lexer": "ipython3",
   "version": "3.11.0"
  },
  "orig_nbformat": 4
 },
 "nbformat": 4,
 "nbformat_minor": 2
}
